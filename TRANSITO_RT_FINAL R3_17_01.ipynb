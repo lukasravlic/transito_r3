{
 "cells": [
  {
   "cell_type": "code",
   "execution_count": 1,
   "metadata": {},
   "outputs": [],
   "source": [
    "import pandas as pd\n",
    "import numpy as np\n",
    "import os\n",
    "import datetime\n",
    "import win32com.client\n",
    "import getpass\n",
    "hoy = datetime.datetime.today()\n"
   ]
  },
  {
   "cell_type": "code",
   "execution_count": 2,
   "metadata": {},
   "outputs": [],
   "source": [
    "\n",
    "nueva_carpeta = f\"C:/Users/lravlic/Inchcape/Planificación y Compras Chile - Documentos/Planificación y Compras KPI-Reportes/Tubo Semanal/{hoy.strftime('%Y-%m-%d')}\"\n",
    "if not os.path.exists(nueva_carpeta):\n",
    "    os.makedirs(nueva_carpeta)"
   ]
  },
  {
   "cell_type": "code",
   "execution_count": 3,
   "metadata": {},
   "outputs": [
    {
     "name": "stdout",
     "output_type": "stream",
     "text": [
      "C:/Users/lravlic/Inchcape/Planificación y Compras Chile - Documentos/Planificación y Compras KPI-Reportes/Tubo Semanal/2025-03-19/2025-03-19 - \n"
     ]
    }
   ],
   "source": [
    "print(nueva_carpeta + '/' + f'{hoy.strftime('%Y-%m-%d')} - ') "
   ]
  },
  {
   "cell_type": "code",
   "execution_count": 4,
   "metadata": {},
   "outputs": [],
   "source": [
    "\n",
    "\n",
    "\n",
    "\n",
    "\n",
    "\n",
    "# ruta_carpeta_base = \"C:/Users/lravlic/Inchcape/Planificación y Compras Chile - Documentos/Planificación y Compras Maestros/Base Planificable\"\n",
    "# carpeta_base = os.listdir(ruta_carpeta_base)\n",
    "# for archivo in carpeta_base:\n",
    "#     if str(hoy.year) in archivo and f'{hoy.month:02d}' in archivo:\n",
    "#         ruta = ruta_carpeta_base + '/' + archivo\n",
    "#         ruta_2 = os.listdir(ruta)\n",
    "#         for archivo in ruta_2:\n",
    "#             if 'Base' in archivo:\n",
    "#                 print(ruta + '/' + archivo )\n",
    "#                 base = pd.read_excel(ruta + '/' + archivo, header=1, engine='openpyxl', sheet_name='Hoja1')\n",
    "             \n",
    "\n",
    "# base_df_prov = base[['Proveedor', 'Pais (Proveedor)']]\n",
    "# base_df = base[['Material','Texto breve de material','NomSector_actual','TIPO','Corresponde','Proveedor', 'Pais (Proveedor)']]\n",
    "dict = {\n",
    "    '01': 'Enero',\n",
    "    '02': 'Febrero',\n",
    "    '03': 'Marzo',\n",
    "    '04': 'Abril',\n",
    "    '05': 'Mayo',\n",
    "    '06': 'Junio',\n",
    "    '07': 'Julio',\n",
    "    '08': 'Agosto',\n",
    "    '09': 'Septiembre',\n",
    "    '10': 'Octubre',\n",
    "    '11': 'Noviembre',\n",
    "    '12': 'Diciembre',\n",
    "}\n",
    "\n",
    "base = pd.read_excel(f\"C:/Users/lravlic/Inchcape/Planificación y Compras Chile - Documentos/Planificación y Compras Maestros/Base Planificable/{str(hoy.year)}-{str(hoy.month).zfill(2)} Base Planificable/Base {dict.get(str(hoy.month).zfill(2))} EM-AXS V2 Corregida.XLSX\", header=1, engine='openpyxl', sheet_name='BP Marzo')\n",
    "base_df_prov = base[['Proveedor', 'Pais (Proveedor)']]\n",
    "base_df = base[['Material','Texto breve de material','NomSector_actual','TIPO','Corresponde','Proveedor', 'Pais (Proveedor)']]\n",
    "\n",
    "#BASE PLANIFICABLE\n",
    "\n"
   ]
  },
  {
   "cell_type": "code",
   "execution_count": 5,
   "metadata": {},
   "outputs": [
    {
     "name": "stderr",
     "output_type": "stream",
     "text": [
      "C:\\Users\\lravlic\\AppData\\Local\\Temp\\ipykernel_18236\\3240834627.py:26: DtypeWarning: Columns (0,3,4,5,6,7,8,11,12,13,14,15,17,18,19) have mixed types. Specify dtype option on import or set low_memory=False.\n",
      "  df_mara = pd.read_csv(ruta_mara)\n"
     ]
    },
    {
     "name": "stdout",
     "output_type": "stream",
     "text": [
      "Ruta Mara: \n",
      "C:\\Users\\lravlic\\Inchcape\\Planificación y Compras Chile - Documentos\\Bases Indicadores en CSV 2025-03\\MARA_R3.csv\n"
     ]
    }
   ],
   "source": [
    "from pathlib import Path\n",
    "usuario = getpass.getuser()\n",
    "ruta = f'C:/Users/{usuario}/Inchcape/Planificación y Compras Chile - Documentos/Bases Indicadores en CSV {hoy.year}-{hoy.month:02d}'\n",
    "ruta_repo = Path(ruta)\n",
    "\n",
    "base_df = base_df[['Material','Texto breve de material','NomSector_actual','TIPO','Corresponde']]\n",
    "columnas= ['Nro_pieza_fabricante_1',\t'Cod_Actual_1']\n",
    "\n",
    "#columnas= ['Nro_pieza_fabricante_1',\t'Cod_Actual_1']\n",
    "ruta_cod = ruta_repo.joinpath('COD_ACTUAL.csv')\n",
    "\n",
    "\n",
    "# Leer el archivo CSV en un DataFrame\n",
    "cod_actual_df = pd.read_csv(ruta_cod)\n",
    "cod_actual_df = cod_actual_df[columnas]\n",
    "base_df_ue = pd.merge(base_df, cod_actual_df, left_on=\"Material\", right_on=\"Nro_pieza_fabricante_1\", how=\"left\")\n",
    "base_df_ue['Cod_Actual_1'] = base_df_ue['Cod_Actual_1'].fillna(base_df_ue['Material'])\n",
    "base_df_ue = base_df_ue[['Cod_Actual_1','Texto breve de material', 'NomSector_actual', 'TIPO','Corresponde']]\n",
    "base_df_ue = base_df_ue.rename(columns={'Cod_Actual_1':'Material'})\n",
    "base_df_ue = base_df_ue.drop_duplicates(subset=['Material'])\n",
    "#MARA\n",
    "columnas_mara = ['Material_R3','Part_number','Material_dsc','Modelo','Familia', 'Subfamilia', 'Categoría', 'Subcatgería','Sector_dsc']\n",
    "ruta_mara = ruta_repo.joinpath('MARA_R3.csv')\n",
    "\n",
    "# Leer el archivo CSV en un DataFrame\n",
    "df_mara = pd.read_csv(ruta_mara)\n",
    "\n",
    "print('Ruta Mara: ' + '\\n' + str(ruta_mara))\n"
   ]
  },
  {
   "cell_type": "code",
   "execution_count": 6,
   "metadata": {},
   "outputs": [],
   "source": [
    "import win32com.client\n",
    "import getpass\n",
    "usuario = getpass.getuser()\n",
    "\n",
    "# Initialize SAP GUI Scripting\n",
    "sap_gui_auto = win32com.client.GetObject(\"SAPGUI\")\n",
    "application = sap_gui_auto.GetScriptingEngine\n",
    "\n",
    "# Establish connection and session\n",
    "connection = application.Children(0)\n",
    "session = connection.Children(0)\n",
    "\n",
    "# Maximize the window\n",
    "session.findById(\"wnd[0]\").maximize()\n",
    "\n",
    "# Enter transaction code\n",
    "session.findById(\"wnd[0]/tbar[0]/okcd\").text = \"me5a\"\n",
    "session.findById(\"wnd[0]\").sendVKey(0)\n",
    "\n",
    "# Set plant code\n",
    "session.findById(\"wnd[0]/usr/ctxtS_WERKS-LOW\").text = \"0201\"\n",
    "session.findById(\"wnd[0]/usr/ctxtS_WERKS-LOW\").setFocus()\n",
    "session.findById(\"wnd[0]/usr/ctxtS_WERKS-LOW\").caretPosition = 4\n",
    "session.findById(\"wnd[0]\").sendVKey(0)\n",
    "\n",
    "# Set document type\n",
    "session.findById(\"wnd[0]/usr/ctxtS_BSART-LOW\").setFocus()\n",
    "session.findById(\"wnd[0]/usr/ctxtS_BSART-LOW\").caretPosition = 0\n",
    "session.findById(\"wnd[0]/usr/btn%_S_BSART_%_APP_%-VALU_PUSH\").press()\n",
    "\n",
    "# Enter multiple values\n",
    "session.findById(\"wnd[1]/usr/tabsTAB_STRIP/tabpSIVA/ssubSCREEN_HEADER:SAPLALDB:3010/tblSAPLALDBSINGLE/ctxtRSCSEL_255-SLOW_I[1,0]\").text = \"zsto\"\n",
    "session.findById(\"wnd[1]/usr/tabsTAB_STRIP/tabpSIVA/ssubSCREEN_HEADER:SAPLALDB:3010/tblSAPLALDBSINGLE/ctxtRSCSEL_255-SLOW_I[1,1]\").text = \"zspt\"\n",
    "session.findById(\"wnd[1]/usr/tabsTAB_STRIP/tabpSIVA/ssubSCREEN_HEADER:SAPLALDB:3010/tblSAPLALDBSINGLE/ctxtRSCSEL_255-SLOW_I[1,2]\").text = \"zvor\"\n",
    "session.findById(\"wnd[1]/usr/tabsTAB_STRIP/tabpSIVA/ssubSCREEN_HEADER:SAPLALDB:3010/tblSAPLALDBSINGLE/ctxtRSCSEL_255-SLOW_I[1,3]\").text = \"zipl\"\n",
    "session.findById(\"wnd[1]/usr/tabsTAB_STRIP/tabpSIVA/ssubSCREEN_HEADER:SAPLALDB:3010/tblSAPLALDBSINGLE/ctxtRSCSEL_255-SLOW_I[1,4]\").text = \"zatt\"\n",
    "session.findById(\"wnd[1]/usr/tabsTAB_STRIP/tabpSIVA/ssubSCREEN_HEADER:SAPLALDB:3010/tblSAPLALDBSINGLE/ctxtRSCSEL_255-SLOW_I[1,4]\").setFocus()\n",
    "session.findById(\"wnd[1]/usr/tabsTAB_STRIP/tabpSIVA/ssubSCREEN_HEADER:SAPLALDB:3010/tblSAPLALDBSINGLE/ctxtRSCSEL_255-SLOW_I[1,4]\").caretPosition = 4\n",
    "session.findById(\"wnd[1]\").sendVKey(8)\n",
    "\n",
    "# Set status\n",
    "session.findById(\"wnd[0]/usr/ctxtS_STATU-LOW\").setFocus()\n",
    "session.findById(\"wnd[0]/usr/ctxtS_STATU-LOW\").caretPosition = 0\n",
    "session.findById(\"wnd[0]/usr/btn%_S_STATU_%_APP_%-VALU_PUSH\").press()\n",
    "session.findById(\"wnd[1]/usr/tabsTAB_STRIP/tabpSIVA/ssubSCREEN_HEADER:SAPLALDB:3010/tblSAPLALDBSINGLE/ctxtRSCSEL_255-SLOW_I[1,0]\").text = \"a\"\n",
    "session.findById(\"wnd[1]/usr/tabsTAB_STRIP/tabpSIVA/ssubSCREEN_HEADER:SAPLALDB:3010/tblSAPLALDBSINGLE/ctxtRSCSEL_255-SLOW_I[1,1]\").text = \"n\"\n",
    "session.findById(\"wnd[1]/usr/tabsTAB_STRIP/tabpSIVA/ssubSCREEN_HEADER:SAPLALDB:3010/tblSAPLALDBSINGLE/ctxtRSCSEL_255-SLOW_I[1,1]\").setFocus()\n",
    "session.findById(\"wnd[1]/usr/tabsTAB_STRIP/tabpSIVA/ssubSCREEN_HEADER:SAPLALDB:3010/tblSAPLALDBSINGLE/ctxtRSCSEL_255-SLOW_I[1,1]\").caretPosition = 1\n",
    "session.findById(\"wnd[1]\").sendVKey(8)\n",
    "\n",
    "# Execute\n",
    "session.findById(\"wnd[0]\").sendVKey(8)\n",
    "\n",
    "# Export to Excel\n",
    "session.findById(\"wnd[0]/tbar[1]/btn[33]\").press()\n",
    "session.findById(\"wnd[1]/usr/ssubD0500_SUBSCREEN:SAPLSLVC_DIALOG:0501/cntlG51_CONTAINER/shellcont/shell\").setCurrentCell(38, \"TEXT\")\n",
    "session.findById(\"wnd[1]/usr/ssubD0500_SUBSCREEN:SAPLSLVC_DIALOG:0501/cntlG51_CONTAINER/shellcont/shell\").firstVisibleRow = 30\n",
    "session.findById(\"wnd[1]/usr/ssubD0500_SUBSCREEN:SAPLSLVC_DIALOG:0501/cntlG51_CONTAINER/shellcont/shell\").selectedRows = \"38\"\n",
    "session.findById(\"wnd[1]/usr/ssubD0500_SUBSCREEN:SAPLSLVC_DIALOG:0501/cntlG51_CONTAINER/shellcont/shell\").clickCurrentCell()\n",
    "session.findById(\"wnd[0]/tbar[1]/btn[43]\").press()\n",
    "session.findById(\"wnd[1]/tbar[0]/btn[0]\").press()\n",
    "session.findById(\"wnd[1]/usr/ctxtDY_PATH\").text = \"C:/Users/lravlic/Inchcape/Planificación y Compras Chile - Documentos/Planificación y Compras KPI-Reportes/Bases Transito (python)\"\n",
    "session.findById(\"wnd[1]/usr/ctxtDY_FILENAME\").text = \"ME5A_R3.XLSX\"\n",
    "session.findById(\"wnd[1]/usr/ctxtDY_FILENAME\").caretPosition = 8\n",
    "session.findById(\"wnd[1]/tbar[0]/btn[11]\").press()\n",
    "\n",
    "# Close the session\n",
    "session.findById(\"wnd[0]\").sendVKey(3)\n",
    "session.findById(\"wnd[0]\").sendVKey(3)\n",
    "\n"
   ]
  },
  {
   "cell_type": "code",
   "execution_count": 7,
   "metadata": {},
   "outputs": [],
   "source": [
    "\n",
    "me5a_df_r3 = pd.read_excel(\"C:/Users/lravlic/Inchcape/Planificación y Compras Chile - Documentos/Planificación y Compras KPI-Reportes/Bases Transito (python)/ME5A_R3.XLSX\")\n",
    "me5a_df_r3 = me5a_df_r3.merge(cod_actual_df, left_on='Material', right_on='Nro_pieza_fabricante_1',how='left')\n",
    "me5a_df_r3['Cod_Actual_1'].fillna(me5a_df_r3['Material'], inplace=True)\n",
    "me5a_df_r3.drop(columns= 'Nro_pieza_fabricante_1', inplace=True)\n",
    "me5a_df_r3.rename(columns={'Cod_Actual_1':'Ult. Eslabon'}, inplace=True)\n",
    "me5a_df_r3 = me5a_df_r3[['Solicitud de pedido', 'Clase documento', 'Fecha de solicitud',\n",
    "       'Pos.solicitud pedido', 'Material','Ult. Eslabon',\n",
    "       'Texto breve', 'Cantidad solicitada', 'Unidad de medida',\n",
    "       'Nombre del proveedor', 'Indicador de borrado', 'Status tratamiento',\n",
    "       'Centro', 'Status tratamiento solicitud pedido', 'Fecha de entrega',\n",
    "       'Grupo de compras', 'Solicitante', 'Proveedor deseado',\n",
    "       'Proveedor fijo', 'Reg.info de compras', 'Creado por',\n",
    "       'Fecha de pedido', 'Nombre del proveedor deseado', 'Pedido',\n",
    "       'Posición de pedido', 'Proveedor', 'Moneda', 'Precio de valoración',\n",
    "       'Valor total', 'Petición de oferta',\n",
    "       'Fecha Petición de oferta', 'Texto bloqueo', 'Cantidad confirmada','Urgencia necesidad'\n",
    "       ]]\n",
    "carpeta_tubo = \"C:/Users/lravlic/Inchcape/Planificación y Compras Chile - Documentos/Planificación y Compras KPI-Reportes/Tubo Semanal\"\n",
    "ruta_tubo = os.listdir(carpeta_tubo)[-2]\n",
    "\n",
    "\n",
    "\n"
   ]
  },
  {
   "cell_type": "code",
   "execution_count": null,
   "metadata": {},
   "outputs": [],
   "source": [
    "nueva_carpeta = f\"C:/Users/lravlic/Inchcape/Planificación y Compras Chile - Documentos/Planificación y Compras KPI-Reportes/Tubo Semanal/{hoy.strftime('%Y-%m-%d')}\"\n",
    "if not os.path.exists(nueva_carpeta):\n",
    "    os.makedirs(nueva_carpeta)\n",
    "\n",
    "\n"
   ]
  },
  {
   "cell_type": "code",
   "execution_count": 15,
   "metadata": {},
   "outputs": [],
   "source": [
    "destino_tubo = nueva_carpeta + '/' + f'{hoy.strftime('%Y-%m-%d')} - '"
   ]
  },
  {
   "cell_type": "code",
   "execution_count": 9,
   "metadata": {},
   "outputs": [],
   "source": [
    "me5a_df_r3.to_excel(destino_tubo + \"ME5A R3.xlsx\", index=False)"
   ]
  },
  {
   "cell_type": "code",
   "execution_count": 10,
   "metadata": {},
   "outputs": [],
   "source": [
    "import win32com.client\n",
    "\n",
    "# Initialize SAP GUI scripting engine\n",
    "SapGuiAuto = win32com.client.GetObject(\"SAPGUI\")\n",
    "application = SapGuiAuto.GetScriptingEngine\n",
    "\n",
    "# Get the first connection and session\n",
    "connection = application.Children(0)\n",
    "session = connection.Children(0)\n",
    "\n",
    "# Maximize the SAP window\n",
    "session.findById(\"wnd[0]\").maximize()\n",
    "\n",
    "# Enter transaction code ME2L and execute\n",
    "session.findById(\"wnd[0]/tbar[0]/okcd\").text = \"me2l\"\n",
    "session.findById(\"wnd[0]\").sendVKey(0)\n",
    "\n",
    "# Set the \"we101\" text in the appropriate field\n",
    "session.findById(\"wnd[0]/usr/ctxtSELPA-LOW\").text = \"we101\"\n",
    "\n",
    "# Set focus and position for the next field\n",
    "session.findById(\"wnd[0]/usr/ctxtS_BSART-LOW\").setFocus()\n",
    "session.findById(\"wnd[0]/usr/ctxtS_BSART-LOW\").caretPosition = 0\n",
    "\n",
    "# Press the value push button\n",
    "session.findById(\"wnd[0]/usr/btn%_S_BSART_%_APP_%-VALU_PUSH\").press()\n",
    "\n",
    "# Fill in multiple values in a subsequent popup\n",
    "values = [\"zsto\", \"zspt\", \"zvor\", \"zipl\", \"zatt\"]\n",
    "for i, value in enumerate(values):\n",
    "    session.findById(f\"wnd[1]/usr/tabsTAB_STRIP/tabpSIVA/ssubSCREEN_HEADER:SAPLALDB:3010/tblSAPLALDBSINGLE/ctxtRSCSEL_255-SLOW_I[1,{i}]\").text = value\n",
    "\n",
    "# Set focus and caret position\n",
    "session.findById(\"wnd[1]/usr/tabsTAB_STRIP/tabpSIVA/ssubSCREEN_HEADER:SAPLALDB:3010/tblSAPLALDBSINGLE/ctxtRSCSEL_255-SLOW_I[1,4]\").setFocus()\n",
    "session.findById(\"wnd[1]/usr/tabsTAB_STRIP/tabpSIVA/ssubSCREEN_HEADER:SAPLALDB:3010/tblSAPLALDBSINGLE/ctxtRSCSEL_255-SLOW_I[1,4]\").caretPosition = 4\n",
    "\n",
    "# Send VKey 8 to confirm the entries\n",
    "session.findById(\"wnd[1]\").sendVKey(8)\n",
    "\n",
    "# Set the plant to \"0201\"\n",
    "session.findById(\"wnd[0]/usr/ctxtS_WERKS-LOW\").text = \"0201\"\n",
    "session.findById(\"wnd[0]/usr/ctxtS_WERKS-LOW\").setFocus()\n",
    "session.findById(\"wnd[0]/usr/ctxtS_WERKS-LOW\").caretPosition = 4\n",
    "\n",
    "# Send VKey 8 to confirm the plant entry\n",
    "session.findById(\"wnd[0]\").sendVKey(8)\n",
    "\n",
    "# Execute the next steps\n",
    "session.findById(\"wnd[0]\").sendVKey(23)\n",
    "session.findById(\"wnd[0]/tbar[1]/btn[33]\").press()\n",
    "\n",
    "# Interact with the subsequent popup\n",
    "session.findById(\"wnd[1]/usr/ssubD0500_SUBSCREEN:SAPLSLVC_DIALOG:0501/cntlG51_CONTAINER/shellcont/shell\").setCurrentCell(8, \"TEXT\")\n",
    "session.findById(\"wnd[1]/usr/ssubD0500_SUBSCREEN:SAPLSLVC_DIALOG:0501/cntlG51_CONTAINER/shellcont/shell\").firstVisibleRow = 3\n",
    "session.findById(\"wnd[1]/usr/ssubD0500_SUBSCREEN:SAPLSLVC_DIALOG:0501/cntlG51_CONTAINER/shellcont/shell\").selectedRows = \"8\"\n",
    "session.findById(\"wnd[1]/usr/ssubD0500_SUBSCREEN:SAPLSLVC_DIALOG:0501/cntlG51_CONTAINER/shellcont/shell\").clickCurrentCell()\n",
    "session.findById(\"wnd[0]/tbar[1]/btn[43]\").press()\n",
    "session.findById(\"wnd[1]/tbar[0]/btn[0]\").press()\n",
    "\n",
    "# Set file path and name\n",
    "session.findById(\"wnd[1]/usr/ctxtDY_PATH\").text = \"C:\\\\Users\\\\lravlic\\\\Inchcape\\\\Planificación y Compras Chile - Documentos\\\\Planificación y Compras KPI-Reportes\\\\Bases Transito (python)\\\\\"\n",
    "session.findById(\"wnd[1]/usr/ctxtDY_FILENAME\").text = \"me2l_r3.XLSX\"\n",
    "session.findById(\"wnd[1]/usr/ctxtDY_FILENAME\").caretPosition = 7\n",
    "session.findById(\"wnd[1]/tbar[0]/btn[11]\").press()\n",
    "\n",
    "# Close the windows\n",
    "session.findById(\"wnd[0]\").sendVKey(3)\n",
    "session.findById(\"wnd[0]\").sendVKey(3)\n",
    "\n",
    "\n",
    "\n",
    "import xlwings as xw\n",
    "try:\n",
    "    book = xw.Book(\"C:/Users/lravlic/Inchcape/Planificación y Compras Chile - Documentos/Planificación y Compras KPI-Reportes/Bases Transito (python)/me2l_r3.XLSX\")\n",
    "    book.close()\n",
    "except Exception as e:\n",
    "    print(e)\n",
    "\n",
    "\n",
    "# Alternatively, you can access the parts using indexing (e.g., df_parts[0], df_parts[1], etc.)\n",
    "\n",
    "# Each part will have a similar number of rows\n"
   ]
  },
  {
   "cell_type": "code",
   "execution_count": 11,
   "metadata": {},
   "outputs": [],
   "source": [
    "me2l_df = pd.read_excel(\"C:/Users/lravlic/Inchcape/Planificación y Compras Chile - Documentos/Planificación y Compras KPI-Reportes/Bases Transito (python)/me2l_r3.xlsx\", dtype={'Posición':'str', 'Documento compras':'str'})\n"
   ]
  },
  {
   "cell_type": "code",
   "execution_count": 12,
   "metadata": {},
   "outputs": [
    {
     "name": "stderr",
     "output_type": "stream",
     "text": [
      "c:\\Users\\lravlic\\AppData\\Local\\Programs\\Python\\Python312\\Lib\\site-packages\\numpy\\core\\fromnumeric.py:59: FutureWarning: 'DataFrame.swapaxes' is deprecated and will be removed in a future version. Please use 'DataFrame.transpose' instead.\n",
      "  return bound(*args, **kwds)\n"
     ]
    }
   ],
   "source": [
    "\n",
    "#ME2L POR SEPARADO\n",
    "me2l_df = me2l_df.drop(0)\n",
    "me2l_df['Por calcular (cantidad)'] = pd.to_numeric(me2l_df['Por calcular (cantidad)'], errors='coerce')\n",
    "me2l_df['Por entregar (cantidad)'] = pd.to_numeric(me2l_df['Por entregar (cantidad)'], errors='coerce')\n",
    "\n",
    "me2l_df = me2l_df[~((me2l_df['Por calcular (cantidad)']==0) & (me2l_df['Por entregar (cantidad)'] == 0))]\n",
    "\n",
    "me2l_df['Material'] = me2l_df['Material'].astype('str')\n",
    "me2l_df['Material'] = me2l_df['Material'].apply(lambda x: x.split(\".\")[0])\n",
    "\n",
    "me2l_ue = pd.merge(me2l_df, cod_actual_df, left_on=\"Material\", right_on=\"Nro_pieza_fabricante_1\", how=\"left\")\n",
    "me2l_ue['Cod_Actual_1'].fillna(me2l_ue['Material'], inplace=True)\n",
    "me2l_ue = me2l_ue[['Documento compras', 'Posición', 'Reparto','Cl.documento compras','Tipo doc.compras',\n",
    "       'Grupo de compras','Historial pedido/Docu.orden entrega', 'Fecha documento', 'Material','Cod_Actual_1', 'Texto breve','Grupo de artículos',\n",
    "       'Indicador de borrado','Tipo de posición', 'Tipo de imputación', 'Centro', 'Almacén', 'Cantidad de reparto', 'Cantidad de pedido',\n",
    "       'Unidad medida pedido', 'Precio neto', 'Moneda', 'Cantidad base',\n",
    "       'Fecha de entrega','Hora', 'Fecha entrega estad.',  'Cantidad entrada', 'Cantidad de salida', 'Cantidad entregada',\n",
    "       'Solicitud de pedido', 'Pos.solicitud pedido', 'Indicador creación',\n",
    "       'Cantidad de posiciones', 'Nombre del proveedor',\n",
    "       'Por entregar (cantidad)', 'Por entregar (valor)',\n",
    "       'Por calcular (cantidad)', 'Por calcular (valor)'\n",
    "       ]]\n",
    "\n",
    "me2l_ue = me2l_ue.rename(columns={'Material':'Material Antiguo'})\n",
    "me2l_ue = me2l_ue.rename(columns={'Cod_Actual_1':'Material'})\n",
    "\n",
    "me2l_df['Material'] = me2l_df['Material'].astype('str')\n",
    "me2l_df['Material'] = me2l_df['Material'].apply(lambda x: x.split(\".\")[0])\n",
    "\n",
    "me2l_ue = pd.merge(me2l_df, cod_actual_df, left_on=\"Material\", right_on=\"Nro_pieza_fabricante_1\", how=\"left\")\n",
    "me2l_ue['Cod_Actual_1'].fillna(me2l_ue['Material'], inplace=True)\n",
    "\n",
    "me2l_ue = me2l_ue[['Documento compras', 'Posición', 'Reparto','Cl.documento compras','Tipo doc.compras',\n",
    "       'Grupo de compras','Historial pedido/Docu.orden entrega', 'Fecha documento', 'Material','Cod_Actual_1', 'Texto breve','Grupo de artículos',\n",
    "       'Indicador de borrado','Tipo de posición', 'Tipo de imputación', 'Centro', 'Almacén', 'Cantidad de reparto', 'Cantidad de pedido',\n",
    "       'Unidad medida pedido', 'Precio neto', 'Moneda', 'Cantidad base',\n",
    "       'Fecha de entrega','Hora', 'Fecha entrega estad.',  'Cantidad entrada', 'Cantidad de salida', 'Cantidad entregada',\n",
    "       'Solicitud de pedido', 'Pos.solicitud pedido', 'Indicador creación',\n",
    "       'Cantidad de posiciones', 'Nombre del proveedor',\n",
    "       'Por entregar (cantidad)', 'Por entregar (valor)',\n",
    "       'Por calcular (cantidad)', 'Por calcular (valor)'\n",
    "       ]]\n",
    "\n",
    "me2l_ue = me2l_ue.rename(columns={'Material':'Material Antiguo'})\n",
    "me2l_ue = me2l_ue.rename(columns={'Cod_Actual_1':'Material'})\n",
    "\n",
    "base_df_prov = base_df_prov.drop_duplicates(subset=['Proveedor'])\n",
    "me2l_cruce_sector = pd.merge(me2l_ue, base_df_ue[['Material','Texto breve de material', 'NomSector_actual', 'TIPO','Corresponde']], left_on=\"Material\", right_on=\"Material\", how=\"left\")\n",
    "#me2l_ue.to_excel(\"C:/Users/lravlic/PROYECTOS DATA/PRUEBAS TRANSITO/me2l_sector.xlsx\")\n",
    "me2l_cruce_sector.shape\n",
    "me2l_cruce_sector = me2l_cruce_sector[['Documento compras', 'Posición', 'Reparto','Cl.documento compras','Tipo doc.compras',\n",
    "       'Grupo de compras','Historial pedido/Docu.orden entrega', 'Fecha documento', 'Material Antiguo','Material', 'Texto breve','Grupo de artículos',\n",
    "       'Indicador de borrado','Tipo de posición', 'Tipo de imputación', 'Centro', 'Almacén', 'Cantidad de reparto', 'Cantidad de pedido',\n",
    "       'Unidad medida pedido', 'Precio neto', 'Moneda', \n",
    "       'Fecha de entrega','Hora', 'Fecha entrega estad.',\n",
    "       'Cantidad entrada', 'Cantidad de salida', 'Cantidad entregada',\n",
    "       'Solicitud de pedido', 'Pos.solicitud pedido', 'Indicador creación',\n",
    "       'Cantidad de posiciones', 'Nombre del proveedor',\n",
    "       'Por entregar (cantidad)', 'Por entregar (valor)',\n",
    "       'Por calcular (cantidad)', 'Por calcular (valor)', 'NomSector_actual',\n",
    "       'Texto breve de material', 'TIPO', 'Corresponde']]\n",
    "me2l_cruce_sector['Cod_Prov'] = me2l_cruce_sector['Nombre del proveedor'].str.split(' ', expand=True)[0]\n",
    "me2l_cruce_sector = me2l_cruce_sector.merge(base_df_prov,left_on='Cod_Prov', right_on='Proveedor', how='left')\n",
    "me2l_cruce_sector['Posición'] = me2l_cruce_sector['Posición'].astype('str')\n",
    "me2l_cruce_sector['AUX'] = me2l_cruce_sector['Documento compras'] + me2l_cruce_sector['Posición']\n",
    "me2l_cruce_sector['Origen'] = me2l_cruce_sector['Pais (Proveedor)']\n",
    "me2l_cruce_sector = me2l_cruce_sector[['AUX','Documento compras', 'Posición', 'Reparto','Cl.documento compras','Tipo doc.compras',\n",
    "       'Grupo de compras','Historial pedido/Docu.orden entrega', 'Fecha documento', 'Material Antiguo','Material', 'Texto breve','Grupo de artículos',\n",
    "       'Indicador de borrado','Tipo de posición', 'Tipo de imputación', 'Centro', 'Almacén', 'Cantidad de reparto', 'Cantidad de pedido',\n",
    "       'Unidad medida pedido', 'Precio neto', 'Moneda',\n",
    "       'Fecha de entrega','Hora', 'Fecha entrega estad.',\n",
    "       'Cantidad entrada', 'Cantidad de salida', 'Cantidad entregada',\n",
    "       'Solicitud de pedido', 'Pos.solicitud pedido', 'Indicador creación',\n",
    "       'Cantidad de posiciones', 'Nombre del proveedor',\n",
    "       'Por entregar (cantidad)', 'Por entregar (valor)',\n",
    "       'Por calcular (cantidad)', 'Por calcular (valor)', 'NomSector_actual','Origen', 'TIPO',  'Corresponde']]\n",
    "me2l_base_tr = me2l_cruce_sector\n",
    "#[me2l_cruce_sector['NomSector_actual'].notna()]\n",
    "me2l_base_tr['Corresponde'].fillna(0, inplace=True)\n",
    "me2l_base_tr['Corresponde'].replace({0:1}, inplace=True)\n",
    "\n",
    "\n",
    "\n",
    "me2l_base_tr.to_excel(destino_tubo + 'ME2L R3.xlsx')\n",
    "me2l_cruce_sector = me2l_base_tr\n",
    "me2l_cruce_sector['AUX'] = me2l_cruce_sector['Documento compras'] + me2l_cruce_sector['Posición']\n",
    "me2l_cruce_sector = me2l_cruce_sector[['AUX','Documento compras', 'Posición', 'Reparto','Cl.documento compras','Tipo doc.compras',\n",
    "       'Grupo de compras','Historial pedido/Docu.orden entrega', 'Fecha documento', 'Material Antiguo','Material', 'Texto breve','Grupo de artículos',\n",
    "       'Indicador de borrado','Tipo de posición', 'Tipo de imputación', 'Centro', 'Almacén', 'Cantidad de reparto', 'Cantidad de pedido',\n",
    "       'Unidad medida pedido', 'Precio neto', 'Moneda',\n",
    "       'Fecha de entrega','Hora', 'Fecha entrega estad.', \n",
    "       'Cantidad entrada', 'Cantidad de salida', 'Cantidad entregada',\n",
    "       'Solicitud de pedido', 'Pos.solicitud pedido', 'Indicador creación',\n",
    "       'Cantidad de posiciones', 'Nombre del proveedor',\n",
    "       'Por entregar (cantidad)', 'Por entregar (valor)',\n",
    "       'Por calcular (cantidad)', 'Por calcular (valor)', 'NomSector_actual','Origen', 'TIPO',  'Corresponde']]\n",
    "me2l_base_tr = me2l_cruce_sector\n",
    "#[me2l_cruce_sector['NomSector_actual'].notna()]\n",
    "bases_oc = me2l_base_tr.groupby(['Documento compras'])['Posición'].count().sort_values(ascending=False).reset_index()\n",
    "\n",
    "\n",
    "# Calculate the number of rows in each part\n",
    "num_rows_per_part = len(bases_oc) // 3  # Integer division to get an equal split\n",
    "\n",
    "# Split the DataFrame into five parts\n",
    "df_parts = np.array_split(bases_oc, 3)\n",
    "\n"
   ]
  },
  {
   "cell_type": "code",
   "execution_count": 38,
   "metadata": {},
   "outputs": [],
   "source": [
    "df_parts[0]['Documento compras'].to_clipboard(header=False, index=False)"
   ]
  },
  {
   "cell_type": "code",
   "execution_count": 40,
   "metadata": {},
   "outputs": [],
   "source": [
    "import win32com.client\n",
    "\n",
    "# Initialize SAP GUI scripting engine\n",
    "SapGuiAuto = win32com.client.GetObject(\"SAPGUI\")\n",
    "application = SapGuiAuto.GetScriptingEngine\n",
    "\n",
    "# Get the first connection and session\n",
    "connection = application.Children(0)\n",
    "session = connection.Children(0)\n",
    "\n",
    "# Maximize the SAP window\n",
    "session.findById(\"wnd[0]\").maximize()\n",
    "\n",
    "# Enter transaction code ZMM_MONITOR_ORDEN_CL and execute\n",
    "session.findById(\"wnd[0]/tbar[0]/okcd\").text = \"ZMM_MONITOR_ORDEN_CL\"\n",
    "session.findById(\"wnd[0]\").sendVKey(0)\n",
    "\n",
    "# Select the specific tab\n",
    "session.findById(\"wnd[0]/usr/tabsTABSTRIP_TABB2/tabpMON_OC_OC\").select()\n",
    "\n",
    "# Set focus and position for the required field\n",
    "session.findById(\"wnd[0]/usr/tabsTABSTRIP_TABB2/tabpMON_OC_OC/ssub%_SUBSCREEN_TABB2:ZMM_MONITO3_SEGUIMIENTO_ORV4CL:1003/ctxtSO_OC-LOW\").setFocus()\n",
    "session.findById(\"wnd[0]/usr/tabsTABSTRIP_TABB2/tabpMON_OC_OC/ssub%_SUBSCREEN_TABB2:ZMM_MONITO3_SEGUIMIENTO_ORV4CL:1003/ctxtSO_OC-LOW\").caretPosition = 0\n",
    "\n",
    "# Press the value push button\n",
    "session.findById(\"wnd[0]/usr/tabsTABSTRIP_TABB2/tabpMON_OC_OC/ssub%_SUBSCREEN_TABB2:ZMM_MONITO3_SEGUIMIENTO_ORV4CL:1003/btn%_SO_OC_%_APP_%-VALU_PUSH\").press()\n",
    "\n",
    "# Interact with the buttons in the new window\n",
    "session.findById(\"wnd[1]/tbar[0]/btn[24]\").press()\n",
    "session.findById(\"wnd[1]/tbar[0]/btn[0]\").press()\n",
    "session.findById(\"wnd[1]/tbar[0]/btn[8]\").press()\n",
    "\n",
    "# Send VKey 8 to confirm the entries\n",
    "session.findById(\"wnd[0]\").sendVKey(8)\n",
    "\n",
    "# Press the toolbar button\n",
    "session.findById(\"wnd[0]/usr/cntlCONTROL_ALV_UPPER/shellcont/shell\").pressToolbarButton(\"&MB_VARIANT\")\n",
    "\n",
    "# Interact with the subsequent popup\n",
    "session.findById(\"wnd[1]/usr/ssubD0500_SUBSCREEN:SAPLSLVC_DIALOG:0501/cntlG51_CONTAINER/shellcont/shell\").setCurrentCell(3, \"TEXT\")\n",
    "session.findById(\"wnd[1]/usr/ssubD0500_SUBSCREEN:SAPLSLVC_DIALOG:0501/cntlG51_CONTAINER/shellcont/shell\").selectedRows = \"3\"\n",
    "session.findById(\"wnd[1]/usr/ssubD0500_SUBSCREEN:SAPLSLVC_DIALOG:0501/cntlG51_CONTAINER/shellcont/shell\").clickCurrentCell()\n",
    "\n",
    "# Export the data\n",
    "session.findById(\"wnd[0]/usr/cntlCONTROL_ALV_UPPER/shellcont/shell\").pressToolbarContextButton(\"&MB_EXPORT\")\n",
    "session.findById(\"wnd[0]/usr/cntlCONTROL_ALV_UPPER/shellcont/shell\").selectContextMenuItem(\"&XXL\")\n",
    "session.findById(\"wnd[1]/tbar[0]/btn[0]\").press()\n",
    "\n",
    "# Set the file path and name\n",
    "session.findById(\"wnd[1]/usr/ctxtDY_PATH\").text = \"\"\n",
    "session.findById(\"wnd[1]/usr/ctxtDY_FILENAME\").text = \"monitor_1_r3.XLSX\"\n",
    "session.findById(\"wnd[1]/usr/ctxtDY_PATH\").setFocus()\n",
    "session.findById(\"wnd[1]/usr/ctxtDY_PATH\").caretPosition = 0\n",
    "session.findById(\"wnd[1]\").sendVKey(4)\n",
    "\n",
    "# Set the directory path in the new window\n",
    "session.findById(\"wnd[2]/usr/ctxtDY_PATH\").text = \"C:\\\\Users\\\\lravlic\\\\Inchcape\\\\Planificación y Compras Chile - Documentos\\\\Planificación y Compras KPI-Reportes\\\\Bases Transito (python)\"\n",
    "session.findById(\"wnd[2]/usr/ctxtDY_PATH\").setFocus()\n",
    "session.findById(\"wnd[2]/usr/ctxtDY_PATH\").caretPosition = 131\n",
    "session.findById(\"wnd[2]/tbar[0]/btn[11]\").press()\n",
    "\n",
    "# Confirm the export\n",
    "session.findById(\"wnd[1]/tbar[0]/btn[11]\").press()\n",
    "\n",
    "# Close the windows\n",
    "session.findById(\"wnd[0]\").sendVKey(3)\n",
    "session.findById(\"wnd[0]\").sendVKey(3)\n"
   ]
  },
  {
   "cell_type": "code",
   "execution_count": 41,
   "metadata": {},
   "outputs": [],
   "source": [
    "df_parts[1]['Documento compras'].to_clipboard(header=False, index=False)"
   ]
  },
  {
   "cell_type": "code",
   "execution_count": 42,
   "metadata": {},
   "outputs": [],
   "source": [
    "import win32com.client\n",
    "\n",
    "# Initialize SAP GUI scripting engine\n",
    "SapGuiAuto = win32com.client.GetObject(\"SAPGUI\")\n",
    "application = SapGuiAuto.GetScriptingEngine\n",
    "\n",
    "# Get the first connection and session\n",
    "connection = application.Children(0)\n",
    "session = connection.Children(0)\n",
    "\n",
    "# Maximize the SAP window\n",
    "session.findById(\"wnd[0]\").maximize()\n",
    "\n",
    "# Enter transaction code ZMM_MONITOR_ORDEN_CL and execute\n",
    "session.findById(\"wnd[0]/tbar[0]/okcd\").text = \"ZMM_MONITOR_ORDEN_CL\"\n",
    "session.findById(\"wnd[0]\").sendVKey(0)\n",
    "\n",
    "# Select the specific tab\n",
    "session.findById(\"wnd[0]/usr/tabsTABSTRIP_TABB2/tabpMON_OC_OC\").select()\n",
    "\n",
    "# Set focus and position for the required field\n",
    "session.findById(\"wnd[0]/usr/tabsTABSTRIP_TABB2/tabpMON_OC_OC/ssub%_SUBSCREEN_TABB2:ZMM_MONITO3_SEGUIMIENTO_ORV4CL:1003/ctxtSO_OC-LOW\").setFocus()\n",
    "session.findById(\"wnd[0]/usr/tabsTABSTRIP_TABB2/tabpMON_OC_OC/ssub%_SUBSCREEN_TABB2:ZMM_MONITO3_SEGUIMIENTO_ORV4CL:1003/ctxtSO_OC-LOW\").caretPosition = 0\n",
    "\n",
    "# Press the value push button\n",
    "session.findById(\"wnd[0]/usr/tabsTABSTRIP_TABB2/tabpMON_OC_OC/ssub%_SUBSCREEN_TABB2:ZMM_MONITO3_SEGUIMIENTO_ORV4CL:1003/btn%_SO_OC_%_APP_%-VALU_PUSH\").press()\n",
    "\n",
    "# Interact with the buttons in the new window\n",
    "session.findById(\"wnd[1]/tbar[0]/btn[24]\").press()\n",
    "session.findById(\"wnd[1]/tbar[0]/btn[0]\").press()\n",
    "session.findById(\"wnd[1]/tbar[0]/btn[8]\").press()\n",
    "\n",
    "# Send VKey 8 to confirm the entries\n",
    "session.findById(\"wnd[0]\").sendVKey(8)\n",
    "\n",
    "# Press the toolbar button\n",
    "session.findById(\"wnd[0]/usr/cntlCONTROL_ALV_UPPER/shellcont/shell\").pressToolbarButton(\"&MB_VARIANT\")\n",
    "\n",
    "# Interact with the subsequent popup\n",
    "session.findById(\"wnd[1]/usr/ssubD0500_SUBSCREEN:SAPLSLVC_DIALOG:0501/cntlG51_CONTAINER/shellcont/shell\").setCurrentCell(3, \"TEXT\")\n",
    "session.findById(\"wnd[1]/usr/ssubD0500_SUBSCREEN:SAPLSLVC_DIALOG:0501/cntlG51_CONTAINER/shellcont/shell\").selectedRows = \"3\"\n",
    "session.findById(\"wnd[1]/usr/ssubD0500_SUBSCREEN:SAPLSLVC_DIALOG:0501/cntlG51_CONTAINER/shellcont/shell\").clickCurrentCell()\n",
    "\n",
    "# Export the data\n",
    "session.findById(\"wnd[0]/usr/cntlCONTROL_ALV_UPPER/shellcont/shell\").pressToolbarContextButton(\"&MB_EXPORT\")\n",
    "session.findById(\"wnd[0]/usr/cntlCONTROL_ALV_UPPER/shellcont/shell\").selectContextMenuItem(\"&XXL\")\n",
    "session.findById(\"wnd[1]/tbar[0]/btn[0]\").press()\n",
    "\n",
    "# Set the file path and name\n",
    "session.findById(\"wnd[1]/usr/ctxtDY_PATH\").text = \"\"\n",
    "session.findById(\"wnd[1]/usr/ctxtDY_FILENAME\").text = \"monitor_2_r3.XLSX\"\n",
    "session.findById(\"wnd[1]/usr/ctxtDY_PATH\").setFocus()\n",
    "session.findById(\"wnd[1]/usr/ctxtDY_PATH\").caretPosition = 0\n",
    "session.findById(\"wnd[1]\").sendVKey(4)\n",
    "\n",
    "# Set the directory path in the new window\n",
    "session.findById(\"wnd[2]/usr/ctxtDY_PATH\").text = \"C:\\\\Users\\\\lravlic\\\\Inchcape\\\\Planificación y Compras Chile - Documentos\\\\Planificación y Compras KPI-Reportes\\\\Bases Transito (python)\"\n",
    "session.findById(\"wnd[2]/usr/ctxtDY_PATH\").setFocus()\n",
    "session.findById(\"wnd[2]/usr/ctxtDY_PATH\").caretPosition = 131\n",
    "session.findById(\"wnd[2]/tbar[0]/btn[11]\").press()\n",
    "\n",
    "# Confirm the export\n",
    "session.findById(\"wnd[1]/tbar[0]/btn[11]\").press()\n",
    "\n",
    "# Close the windows\n",
    "session.findById(\"wnd[0]\").sendVKey(3)\n",
    "session.findById(\"wnd[0]\").sendVKey(3)\n"
   ]
  },
  {
   "cell_type": "code",
   "execution_count": 17,
   "metadata": {},
   "outputs": [],
   "source": [
    "import xlwings as xw\n",
    "try:\n",
    "    book = xw.Book(\"C:/Users/lravlic/Inchcape/Planificación y Compras Chile - Documentos/Planificación y Compras KPI-Reportes/Bases Transito (python)/monitor_2_r3.XLSX\")\n",
    "    book.close()\n",
    "except Exception as e:\n",
    "    print(e)"
   ]
  },
  {
   "cell_type": "code",
   "execution_count": 43,
   "metadata": {},
   "outputs": [],
   "source": [
    "df_parts[2]['Documento compras'].to_clipboard(header=False, index=False)"
   ]
  },
  {
   "cell_type": "code",
   "execution_count": 44,
   "metadata": {},
   "outputs": [],
   "source": [
    "import win32com.client\n",
    "\n",
    "# Initialize SAP GUI scripting engine\n",
    "SapGuiAuto = win32com.client.GetObject(\"SAPGUI\")\n",
    "application = SapGuiAuto.GetScriptingEngine\n",
    "\n",
    "# Get the first connection and session\n",
    "connection = application.Children(0)\n",
    "session = connection.Children(0)\n",
    "\n",
    "# Maximize the SAP window\n",
    "session.findById(\"wnd[0]\").maximize()\n",
    "\n",
    "# Enter transaction code ZMM_MONITOR_ORDEN_CL and execute\n",
    "session.findById(\"wnd[0]/tbar[0]/okcd\").text = \"ZMM_MONITOR_ORDEN_CL\"\n",
    "session.findById(\"wnd[0]\").sendVKey(0)\n",
    "\n",
    "# Select the specific tab\n",
    "session.findById(\"wnd[0]/usr/tabsTABSTRIP_TABB2/tabpMON_OC_OC\").select()\n",
    "\n",
    "# Set focus and position for the required field\n",
    "session.findById(\"wnd[0]/usr/tabsTABSTRIP_TABB2/tabpMON_OC_OC/ssub%_SUBSCREEN_TABB2:ZMM_MONITO3_SEGUIMIENTO_ORV4CL:1003/ctxtSO_OC-LOW\").setFocus()\n",
    "session.findById(\"wnd[0]/usr/tabsTABSTRIP_TABB2/tabpMON_OC_OC/ssub%_SUBSCREEN_TABB2:ZMM_MONITO3_SEGUIMIENTO_ORV4CL:1003/ctxtSO_OC-LOW\").caretPosition = 0\n",
    "\n",
    "# Press the value push button\n",
    "session.findById(\"wnd[0]/usr/tabsTABSTRIP_TABB2/tabpMON_OC_OC/ssub%_SUBSCREEN_TABB2:ZMM_MONITO3_SEGUIMIENTO_ORV4CL:1003/btn%_SO_OC_%_APP_%-VALU_PUSH\").press()\n",
    "\n",
    "# Interact with the buttons in the new window\n",
    "session.findById(\"wnd[1]/tbar[0]/btn[24]\").press()\n",
    "session.findById(\"wnd[1]/tbar[0]/btn[0]\").press()\n",
    "session.findById(\"wnd[1]/tbar[0]/btn[8]\").press()\n",
    "\n",
    "# Send VKey 8 to confirm the entries\n",
    "session.findById(\"wnd[0]\").sendVKey(8)\n",
    "\n",
    "# Press the toolbar button\n",
    "session.findById(\"wnd[0]/usr/cntlCONTROL_ALV_UPPER/shellcont/shell\").pressToolbarButton(\"&MB_VARIANT\")\n",
    "\n",
    "# Interact with the subsequent popup\n",
    "session.findById(\"wnd[1]/usr/ssubD0500_SUBSCREEN:SAPLSLVC_DIALOG:0501/cntlG51_CONTAINER/shellcont/shell\").setCurrentCell(3, \"TEXT\")\n",
    "session.findById(\"wnd[1]/usr/ssubD0500_SUBSCREEN:SAPLSLVC_DIALOG:0501/cntlG51_CONTAINER/shellcont/shell\").selectedRows = \"3\"\n",
    "session.findById(\"wnd[1]/usr/ssubD0500_SUBSCREEN:SAPLSLVC_DIALOG:0501/cntlG51_CONTAINER/shellcont/shell\").clickCurrentCell()\n",
    "\n",
    "# Export the data\n",
    "session.findById(\"wnd[0]/usr/cntlCONTROL_ALV_UPPER/shellcont/shell\").pressToolbarContextButton(\"&MB_EXPORT\")\n",
    "session.findById(\"wnd[0]/usr/cntlCONTROL_ALV_UPPER/shellcont/shell\").selectContextMenuItem(\"&XXL\")\n",
    "session.findById(\"wnd[1]/tbar[0]/btn[0]\").press()\n",
    "\n",
    "# Set the file path and name\n",
    "session.findById(\"wnd[1]/usr/ctxtDY_PATH\").text = \"\"\n",
    "session.findById(\"wnd[1]/usr/ctxtDY_FILENAME\").text = \"monitor_3_r3.XLSX\"\n",
    "session.findById(\"wnd[1]/usr/ctxtDY_PATH\").setFocus()\n",
    "session.findById(\"wnd[1]/usr/ctxtDY_PATH\").caretPosition = 0\n",
    "session.findById(\"wnd[1]\").sendVKey(4)\n",
    "\n",
    "# Set the directory path in the new window\n",
    "session.findById(\"wnd[2]/usr/ctxtDY_PATH\").text = \"C:\\\\Users\\\\lravlic\\\\Inchcape\\\\Planificación y Compras Chile - Documentos\\\\Planificación y Compras KPI-Reportes\\\\Bases Transito (python)\"\n",
    "session.findById(\"wnd[2]/usr/ctxtDY_PATH\").setFocus()\n",
    "session.findById(\"wnd[2]/usr/ctxtDY_PATH\").caretPosition = 131\n",
    "session.findById(\"wnd[2]/tbar[0]/btn[11]\").press()\n",
    "\n",
    "# Confirm the export\n",
    "session.findById(\"wnd[1]/tbar[0]/btn[11]\").press()\n",
    "\n",
    "# Close the windows\n",
    "session.findById(\"wnd[0]\").sendVKey(3)\n",
    "session.findById(\"wnd[0]\").sendVKey(3)\n"
   ]
  },
  {
   "cell_type": "code",
   "execution_count": 20,
   "metadata": {},
   "outputs": [
    {
     "name": "stdout",
     "output_type": "stream",
     "text": [
      "(-2147352567, 'Ocurrió una excepción.', (0, 'Microsoft Excel', \"Microsoft Excel cannot access the file 'C:\\\\Users\\\\lravlic\\\\Inchcape\\\\Planificación y Compras Chile - Documentos\\\\Planificación y Compras KPI-Reportes\\\\Bases Transito (python)\\\\monitor_3_r3.XLSX'. There are several possible reasons:\\n\\n• The file name or path does not exist.\\n• The file is being used by another program.\\n• The workbook you are trying to save has the same name as a currently open workbook.\", 'xlmain11.chm', 0, -2146827284), None)\n"
     ]
    }
   ],
   "source": [
    "import xlwings as xw\n",
    "try:\n",
    "    book = xw.Book(\"C:/Users/lravlic/Inchcape/Planificación y Compras Chile - Documentos/Planificación y Compras KPI-Reportes/Bases Transito (python)/monitor_3_r3.XLSX\")\n",
    "    book.close()\n",
    "except Exception as e:\n",
    "    print(e)"
   ]
  },
  {
   "cell_type": "code",
   "execution_count": 45,
   "metadata": {},
   "outputs": [],
   "source": [
    "bases_oc['Documento compras'].to_clipboard(header=False, index=False)"
   ]
  },
  {
   "cell_type": "code",
   "execution_count": 46,
   "metadata": {},
   "outputs": [],
   "source": [
    "SapGuiAuto = win32com.client.GetObject(\"SAPGUI\")\n",
    "application = SapGuiAuto.GetScriptingEngine\n",
    "connection = application.Children(0)\n",
    "session = connection.Children(0)\n",
    "#now = datetime.now()\n",
    "\n",
    "#session.findById(\"wnd[0]\").maximize\n",
    "#session.findById(\"wnd[0]\").maximize\n",
    "session.findById(\"wnd[0]/tbar[0]/okcd\").text = \"vl06if\"\n",
    "session.findById(\"wnd[0]\").sendVKey(0)\n",
    "session.findById(\"wnd[0]/usr/ctxtIT_LFDAT-LOW\").text = \"\"\n",
    "session.findById(\"wnd[0]/usr/ctxtIT_LFDAT-HIGH\").text = \"\"\n",
    "session.findById(\"wnd[0]/usr/ctxtIT_LFDAT-LOW\").setFocus()\n",
    "session.findById(\"wnd[0]/usr/ctxtIT_LFDAT-LOW\").caretPosition = 0\n",
    "session.findById(\"wnd[0]\").sendVKey(0)\n",
    "session.findById(\"wnd[0]/usr/ctxtIT_LFDAT-HIGH\").setFocus()\n",
    "session.findById(\"wnd[0]/usr/ctxtIT_LFDAT-HIGH\").caretPosition = 0\n",
    "session.findById(\"wnd[0]\").sendVKey(0)\n",
    "session.findById(\"wnd[0]/usr/btn%_IT_EBELN_%_APP_%-VALU_PUSH\").press()\n",
    "session.findById(\"wnd[1]/tbar[0]/btn[24]\").press()\n",
    "session.findById(\"wnd[1]/tbar[0]/btn[0]\").press()\n",
    "session.findById(\"wnd[1]/tbar[0]/btn[8]\").press()\n",
    "session.findById(\"wnd[0]\").sendVKey(8)\n",
    "session.findById(\"wnd[0]/tbar[1]/btn[18]\").press()\n",
    "session.findById(\"wnd[0]\").sendVKey(33)\n",
    "session.findById(\"wnd[1]/usr/lbl[1,7]\").setFocus()\n",
    "session.findById(\"wnd[1]/usr/lbl[1,7]\").caretPosition = 4\n",
    "session.findById(\"wnd[1]\").sendVKey(2)\n",
    "session.findById(\"wnd[0]\").sendVKey(43)\n",
    "session.findById(\"wnd[1]/usr/cmbG_LISTBOX\").setFocus()\n",
    "session.findById(\"wnd[1]/tbar[0]/btn[0]\").press()\n",
    "session.findById(\"wnd[1]/usr/ctxtDY_PATH\").text = \"C:\\\\Users\\\\lravlic\\\\Inchcape\\\\Planificación y Compras Chile - Documentos\\\\Planificación y Compras KPI-Reportes\\\\Bases Transito (python)\"\n",
    "session.findById(\"wnd[1]/tbar[0]/btn[11]\").press()\n",
    "session.findById(\"wnd[0]\").sendVKey(3)\n",
    "session.findById(\"wnd[0]\").sendVKey(3)\n",
    "\n",
    "\n"
   ]
  },
  {
   "cell_type": "code",
   "execution_count": 127,
   "metadata": {},
   "outputs": [],
   "source": [
    "import xlwings as xw\n",
    "try:\n",
    "    book = xw.Book(\"C:/Users/lravlic/Inchcape/Planificación y Compras Chile - Documentos/Planificación y Compras KPI-Reportes/Bases Transito (python)/export.XLSX\")\n",
    "    book.close()\n",
    "except Exception as e:\n",
    "    print(e)"
   ]
  },
  {
   "cell_type": "code",
   "execution_count": 47,
   "metadata": {},
   "outputs": [],
   "source": [
    "lista = os.listdir(\"C:/Users/lravlic/Inchcape/Planificación y Compras Chile - Documentos/Planificación y Compras KPI-Reportes/Bases Transito (python)\")"
   ]
  },
  {
   "cell_type": "code",
   "execution_count": 48,
   "metadata": {},
   "outputs": [
    {
     "name": "stdout",
     "output_type": "stream",
     "text": [
      "Archivos usados (Monitor)\n"
     ]
    },
    {
     "name": "stdout",
     "output_type": "stream",
     "text": [
      "monitor_1_r3.XLSX\n",
      "(49368, 106)\n",
      "monitor_2_r3.XLSX\n",
      "(14205, 106)\n",
      "monitor_3_r3.XLSX\n",
      "(8819, 106)\n"
     ]
    }
   ],
   "source": [
    "dfs = []\n",
    "print('Archivos usados (Monitor)')\n",
    "for i in lista:\n",
    "    if ('monitor_' in i):\n",
    "        df = pd.read_excel(\"C:/Users/lravlic/Inchcape/Planificación y Compras Chile - Documentos/Planificación y Compras KPI-Reportes/Bases Transito (python)\" + '/' +i, dtype={'N° MIRO':'str'},index_col=None)\n",
    "        print(i)\n",
    "        print(df.shape)\n",
    "        dfs.append(df)\n"
   ]
  },
  {
   "cell_type": "code",
   "execution_count": 49,
   "metadata": {},
   "outputs": [],
   "source": [
    "df_ee = pd.read_excel(\"C:/Users/lravlic/Inchcape/Planificación y Compras Chile - Documentos/Planificación y Compras KPI-Reportes/Bases Transito (python)/export.XLSX\" ,dtype={'Documento compras':'str','Posición modelo':'str'})"
   ]
  },
  {
   "cell_type": "code",
   "execution_count": 50,
   "metadata": {},
   "outputs": [
    {
     "name": "stdout",
     "output_type": "stream",
     "text": [
      "Dimensiones del df1\n",
      ": FILAS:57830\n",
      "COLUMNAS: 13\n"
     ]
    }
   ],
   "source": [
    "print(f'Dimensiones del df1\\n: FILAS:{df_ee.shape[0]}\\nCOLUMNAS: {df_ee.shape[1]}')"
   ]
  },
  {
   "cell_type": "code",
   "execution_count": 51,
   "metadata": {},
   "outputs": [],
   "source": [
    "monitor_df = pd.concat(dfs,axis=0, ignore_index=True)"
   ]
  },
  {
   "cell_type": "code",
   "execution_count": 52,
   "metadata": {},
   "outputs": [
    {
     "data": {
      "text/plain": [
       "Index(['Prefijo OC', 'Nro. OC SAP', 'Clase Doc. OC', 'Posición OC SAP',\n",
       "       'Ind. Borrado OC', 'Fecha Creación OC', 'Clase Doc. SP', 'Nro. SOLPED',\n",
       "       'Posición SOLPED', 'Ind. Borrado SP',\n",
       "       ...\n",
       "       'Días del pedido', 'Días en BO', 'Días Pend. Emb.', 'Pedido Cerrado',\n",
       "       'Material Cotizado', 'Cód. Mat de prov en PO', 'Cantidad en BO',\n",
       "       'Pet.Ofert.Creado por', 'OC Creado por', 'Marcar para \"Cerrar\"'],\n",
       "      dtype='object', length=106)"
      ]
     },
     "execution_count": 52,
     "metadata": {},
     "output_type": "execute_result"
    }
   ],
   "source": [
    "monitor_df.columns"
   ]
  },
  {
   "cell_type": "code",
   "execution_count": 53,
   "metadata": {},
   "outputs": [],
   "source": [
    "monitor_df.to_excel(destino_tubo + \"Monitor R3.xlsx\")\n"
   ]
  },
  {
   "cell_type": "code",
   "execution_count": 54,
   "metadata": {},
   "outputs": [],
   "source": [
    "df_ee.to_excel(destino_tubo + \"Entrega Entrante R3.xlsx\")"
   ]
  },
  {
   "cell_type": "code",
   "execution_count": 55,
   "metadata": {},
   "outputs": [],
   "source": [
    "#monitor_df = monitor_df[['Nro. OC SAP','Clase Doc. OC','Posición OC SAP','Ind. Borrado OC','Clase Doc. SP','Nro. SOLPED','Posición SOLPED','Ind. Borrado SP','Cant. UN. OC','N° MIRO','Posición Factura',\n",
    "#'Cant. Factura','Fe. Confirmación','Fe. Compromiso','Fe. ATA','TF de ATA','Cantidad en BO','Ind. Borrado PO']]"
   ]
  },
  {
   "cell_type": "code",
   "execution_count": 56,
   "metadata": {},
   "outputs": [],
   "source": [
    "monitor_df['Nro. OC SAP'] = monitor_df['Nro. OC SAP'].astype('str')\n",
    "monitor_df['Posición OC SAP'] = monitor_df['Posición OC SAP'].astype('str')\n"
   ]
  },
  {
   "cell_type": "code",
   "execution_count": 57,
   "metadata": {},
   "outputs": [],
   "source": [
    "monitor_df['AUX'] = monitor_df['Nro. OC SAP'] + monitor_df['Posición OC SAP']"
   ]
  },
  {
   "cell_type": "code",
   "execution_count": 58,
   "metadata": {},
   "outputs": [],
   "source": [
    "monitor_df['N° MIRO'] = monitor_df['N° MIRO'].astype('str')"
   ]
  },
  {
   "cell_type": "code",
   "execution_count": 59,
   "metadata": {},
   "outputs": [],
   "source": [
    "monitor_df['Posición Factura'] = monitor_df['Posición Factura'].astype('str')"
   ]
  },
  {
   "cell_type": "code",
   "execution_count": 60,
   "metadata": {},
   "outputs": [],
   "source": [
    "monitor_df['AUX_FACTURA'] = monitor_df['N° MIRO'] + monitor_df['Posición Factura']"
   ]
  },
  {
   "cell_type": "code",
   "execution_count": 61,
   "metadata": {},
   "outputs": [
    {
     "data": {
      "text/plain": [
       "0                 nan0\n",
       "1         511363021099\n",
       "2                 nan0\n",
       "3        5113630210100\n",
       "4        5113630210101\n",
       "             ...      \n",
       "72387    5113301085201\n",
       "72388     511330108535\n",
       "72389     511330108520\n",
       "72390    5113301085238\n",
       "72391    5113301085173\n",
       "Name: AUX_FACTURA, Length: 72392, dtype: object"
      ]
     },
     "execution_count": 61,
     "metadata": {},
     "output_type": "execute_result"
    }
   ],
   "source": [
    "monitor_df['AUX_FACTURA']"
   ]
  },
  {
   "cell_type": "code",
   "execution_count": 62,
   "metadata": {},
   "outputs": [],
   "source": [
    "#revision = monitor_df.groupby('AUX')['Fe. ATA'].nunique().sort_values(ascending=False).reset_index()"
   ]
  },
  {
   "cell_type": "code",
   "execution_count": null,
   "metadata": {},
   "outputs": [],
   "source": []
  },
  {
   "cell_type": "code",
   "execution_count": 63,
   "metadata": {},
   "outputs": [],
   "source": [
    "tabla_1 = monitor_df[monitor_df['Ind. Borrado OC'].isna() &\n",
    "    monitor_df['Ind. Borrado SP'].isna() &\n",
    "    monitor_df['Ind. Borrado PO'].isna()].groupby(['AUX', 'AUX_FACTURA']).agg({'Cant. UN. OC':'mean', 'Cant. Factura':'max','Cantidad en BO':'mean'})"
   ]
  },
  {
   "cell_type": "code",
   "execution_count": 64,
   "metadata": {},
   "outputs": [],
   "source": [
    "tabla_final = tabla_1.groupby(['AUX']).agg({'Cant. UN. OC':'mean','Cant. Factura':'sum', 'Cantidad en BO':'mean'}).reset_index()"
   ]
  },
  {
   "cell_type": "code",
   "execution_count": 66,
   "metadata": {},
   "outputs": [
    {
     "name": "stdout",
     "output_type": "stream",
     "text": [
      "Dimension de tabla final: (50579, 4)\n",
      "----------------------------------------\n",
      "Total Campo OC: 942300.0\n",
      "Total Campo Factura: 798234\n",
      "Total Campo BO: 136941.33333333334\n"
     ]
    }
   ],
   "source": [
    "print(f'Dimension de tabla final: {tabla_final.shape}')\n",
    "print('-'*40)\n",
    "print(f'Total Campo OC: {tabla_final['Cant. UN. OC'].sum()}')\n",
    "print(f'Total Campo Factura: {tabla_final['Cant. Factura'].sum()}')\n",
    "print(f'Total Campo BO: {tabla_final['Cantidad en BO'].sum()}')"
   ]
  },
  {
   "cell_type": "code",
   "execution_count": null,
   "metadata": {},
   "outputs": [],
   "source": []
  },
  {
   "cell_type": "code",
   "execution_count": 67,
   "metadata": {},
   "outputs": [],
   "source": [
    "df_ee = df_ee[['Documento compras','Posición modelo', 'Cantidad entrega', 'Status mov.mcía.']]"
   ]
  },
  {
   "cell_type": "code",
   "execution_count": 68,
   "metadata": {},
   "outputs": [],
   "source": [
    "df_ee['Documento compras'] = df_ee['Documento compras'].astype('str')\n",
    "df_ee['Posición modelo'] = df_ee['Posición modelo'].astype('str')"
   ]
  },
  {
   "cell_type": "code",
   "execution_count": 69,
   "metadata": {},
   "outputs": [
    {
     "data": {
      "text/plain": [
       "Documento compras    object\n",
       "Posición modelo      object\n",
       "Cantidad entrega      int64\n",
       "Status mov.mcía.     object\n",
       "dtype: object"
      ]
     },
     "execution_count": 69,
     "metadata": {},
     "output_type": "execute_result"
    }
   ],
   "source": [
    "df_ee.dtypes"
   ]
  },
  {
   "cell_type": "code",
   "execution_count": 70,
   "metadata": {},
   "outputs": [
    {
     "data": {
      "application/vnd.microsoft.datawrangler.viewer.v0+json": {
       "columns": [
        {
         "name": "index",
         "rawType": "int64",
         "type": "integer"
        },
        {
         "name": "Cantidad entrega",
         "rawType": "int64",
         "type": "integer"
        },
        {
         "name": "Status mov.mcía.",
         "rawType": "object",
         "type": "unknown"
        },
        {
         "name": "AUX",
         "rawType": "object",
         "type": "string"
        }
       ],
       "conversionMethod": "pd.DataFrame",
       "ref": "ed5fd697-b8cd-4594-86f1-39f2a2e2a61d",
       "rows": [
        [
         "0",
         "1",
         "C",
         "420000414420"
        ],
        [
         "1",
         "2",
         "C",
         "420000414560"
        ],
        [
         "2",
         "10",
         "C",
         "420000414570"
        ],
        [
         "3",
         "1",
         "C",
         "4200004150100"
        ],
        [
         "4",
         "1",
         "C",
         "4200004150160"
        ],
        [
         "5",
         "1170",
         "C",
         "4200004150170"
        ],
        [
         "6",
         "20",
         "C",
         "4200004150210"
        ],
        [
         "7",
         "1",
         "C",
         "4200004150300"
        ],
        [
         "8",
         "2",
         "C",
         "420000415130"
        ],
        [
         "9",
         "2",
         "C",
         "420000421020"
        ],
        [
         "10",
         "1",
         "C",
         "420000421040"
        ],
        [
         "11",
         "1",
         "C",
         "420000421510"
        ],
        [
         "12",
         "123",
         "C",
         "420000421530"
        ],
        [
         "13",
         "570",
         "C",
         "420000421590"
        ],
        [
         "14",
         "2",
         "C",
         "4200004215100"
        ],
        [
         "15",
         "1",
         "C",
         "4200004215160"
        ],
        [
         "16",
         "10",
         "C",
         "4200004215170"
        ],
        [
         "17",
         "5",
         "C",
         "4200004215210"
        ],
        [
         "18",
         "1",
         "C",
         "4200004215260"
        ],
        [
         "19",
         "7",
         "C",
         "4200004215270"
        ],
        [
         "20",
         "9",
         "C",
         "4200004215320"
        ],
        [
         "21",
         "5",
         "C",
         "4200004215330"
        ],
        [
         "22",
         "8",
         "C",
         "4200004215370"
        ],
        [
         "23",
         "8",
         "C",
         "4200004215400"
        ],
        [
         "24",
         "4",
         "C",
         "4200004215410"
        ],
        [
         "25",
         "4",
         "C",
         "4200004215440"
        ],
        [
         "26",
         "22",
         "C",
         "420000421710"
        ],
        [
         "27",
         "48",
         "C",
         "420000421720"
        ],
        [
         "28",
         "25",
         "C",
         "4200004217120"
        ],
        [
         "29",
         "17",
         "C",
         "4200004217160"
        ],
        [
         "30",
         "3",
         "C",
         "4200004217210"
        ],
        [
         "31",
         "26",
         "C",
         "4200004217240"
        ],
        [
         "32",
         "1",
         "C",
         "4200004217250"
        ],
        [
         "33",
         "1",
         "C",
         "4200004217310"
        ],
        [
         "34",
         "1",
         "C",
         "4200004217510"
        ],
        [
         "35",
         "3",
         "C",
         "4200004217520"
        ],
        [
         "36",
         "1",
         "C",
         "4200004217540"
        ],
        [
         "37",
         "41",
         "C",
         "4200004217560"
        ],
        [
         "38",
         "9",
         "C",
         "4200004217580"
        ],
        [
         "39",
         "1",
         "C",
         "4200004217600"
        ],
        [
         "40",
         "1",
         "C",
         "4200004217620"
        ],
        [
         "41",
         "2",
         "C",
         "4200004217630"
        ],
        [
         "42",
         "10",
         "C",
         "4200004217640"
        ],
        [
         "43",
         "2",
         "C",
         "4200004217660"
        ],
        [
         "44",
         "9",
         "C",
         "4200004217670"
        ],
        [
         "45",
         "5",
         "C",
         "4200004217790"
        ],
        [
         "46",
         "3",
         "C",
         "4200004217800"
        ],
        [
         "47",
         "2",
         "C",
         "4200004217950"
        ],
        [
         "48",
         "2",
         "C",
         "42000042171000"
        ],
        [
         "49",
         "1",
         "C",
         "42000042171010"
        ]
       ],
       "shape": {
        "columns": 3,
        "rows": 57830
       }
      },
      "text/html": [
       "<div>\n",
       "<style scoped>\n",
       "    .dataframe tbody tr th:only-of-type {\n",
       "        vertical-align: middle;\n",
       "    }\n",
       "\n",
       "    .dataframe tbody tr th {\n",
       "        vertical-align: top;\n",
       "    }\n",
       "\n",
       "    .dataframe thead th {\n",
       "        text-align: right;\n",
       "    }\n",
       "</style>\n",
       "<table border=\"1\" class=\"dataframe\">\n",
       "  <thead>\n",
       "    <tr style=\"text-align: right;\">\n",
       "      <th></th>\n",
       "      <th>Cantidad entrega</th>\n",
       "      <th>Status mov.mcía.</th>\n",
       "      <th>AUX</th>\n",
       "    </tr>\n",
       "  </thead>\n",
       "  <tbody>\n",
       "    <tr>\n",
       "      <th>0</th>\n",
       "      <td>1</td>\n",
       "      <td>C</td>\n",
       "      <td>420000414420</td>\n",
       "    </tr>\n",
       "    <tr>\n",
       "      <th>1</th>\n",
       "      <td>2</td>\n",
       "      <td>C</td>\n",
       "      <td>420000414560</td>\n",
       "    </tr>\n",
       "    <tr>\n",
       "      <th>2</th>\n",
       "      <td>10</td>\n",
       "      <td>C</td>\n",
       "      <td>420000414570</td>\n",
       "    </tr>\n",
       "    <tr>\n",
       "      <th>3</th>\n",
       "      <td>1</td>\n",
       "      <td>C</td>\n",
       "      <td>4200004150100</td>\n",
       "    </tr>\n",
       "    <tr>\n",
       "      <th>4</th>\n",
       "      <td>1</td>\n",
       "      <td>C</td>\n",
       "      <td>4200004150160</td>\n",
       "    </tr>\n",
       "    <tr>\n",
       "      <th>...</th>\n",
       "      <td>...</td>\n",
       "      <td>...</td>\n",
       "      <td>...</td>\n",
       "    </tr>\n",
       "    <tr>\n",
       "      <th>57825</th>\n",
       "      <td>4</td>\n",
       "      <td>A</td>\n",
       "      <td>430002180710</td>\n",
       "    </tr>\n",
       "    <tr>\n",
       "      <th>57826</th>\n",
       "      <td>198</td>\n",
       "      <td>A</td>\n",
       "      <td>420000740710</td>\n",
       "    </tr>\n",
       "    <tr>\n",
       "      <th>57827</th>\n",
       "      <td>198</td>\n",
       "      <td>A</td>\n",
       "      <td>420000740720</td>\n",
       "    </tr>\n",
       "    <tr>\n",
       "      <th>57828</th>\n",
       "      <td>32</td>\n",
       "      <td>NaN</td>\n",
       "      <td>nannan</td>\n",
       "    </tr>\n",
       "    <tr>\n",
       "      <th>57829</th>\n",
       "      <td>914187</td>\n",
       "      <td>NaN</td>\n",
       "      <td>nannan</td>\n",
       "    </tr>\n",
       "  </tbody>\n",
       "</table>\n",
       "<p>57830 rows × 3 columns</p>\n",
       "</div>"
      ],
      "text/plain": [
       "       Cantidad entrega Status mov.mcía.            AUX\n",
       "0                     1                C   420000414420\n",
       "1                     2                C   420000414560\n",
       "2                    10                C   420000414570\n",
       "3                     1                C  4200004150100\n",
       "4                     1                C  4200004150160\n",
       "...                 ...              ...            ...\n",
       "57825                 4                A   430002180710\n",
       "57826               198                A   420000740710\n",
       "57827               198                A   420000740720\n",
       "57828                32              NaN         nannan\n",
       "57829            914187              NaN         nannan\n",
       "\n",
       "[57830 rows x 3 columns]"
      ]
     },
     "execution_count": 70,
     "metadata": {},
     "output_type": "execute_result"
    }
   ],
   "source": [
    "df_ee['AUX'] = df_ee['Documento compras'] + df_ee['Posición modelo']\n",
    "df_ee.drop(columns=['Documento compras','Posición modelo'])"
   ]
  },
  {
   "cell_type": "code",
   "execution_count": 71,
   "metadata": {},
   "outputs": [],
   "source": [
    "table_ee = df_ee[df_ee['Status mov.mcía.']=='C'].groupby(['AUX'])['Cantidad entrega'].sum().reset_index()"
   ]
  },
  {
   "cell_type": "code",
   "execution_count": 72,
   "metadata": {},
   "outputs": [
    {
     "data": {
      "text/plain": [
       "(21957, 42)"
      ]
     },
     "execution_count": 72,
     "metadata": {},
     "output_type": "execute_result"
    }
   ],
   "source": [
    "me2l_base_tr.shape"
   ]
  },
  {
   "cell_type": "code",
   "execution_count": 73,
   "metadata": {},
   "outputs": [],
   "source": [
    "me2l_15 = me2l_base_tr"
   ]
  },
  {
   "cell_type": "code",
   "execution_count": 74,
   "metadata": {},
   "outputs": [
    {
     "data": {
      "application/vnd.microsoft.datawrangler.viewer.v0+json": {
       "columns": [
        {
         "name": "index",
         "rawType": "int64",
         "type": "integer"
        },
        {
         "name": "Prefijo OC",
         "rawType": "object",
         "type": "string"
        },
        {
         "name": "Nro. OC SAP",
         "rawType": "object",
         "type": "string"
        },
        {
         "name": "Clase Doc. OC",
         "rawType": "object",
         "type": "string"
        },
        {
         "name": "Posición OC SAP",
         "rawType": "object",
         "type": "string"
        },
        {
         "name": "Ind. Borrado OC",
         "rawType": "object",
         "type": "unknown"
        },
        {
         "name": "Fecha Creación OC",
         "rawType": "datetime64[ns]",
         "type": "datetime"
        },
        {
         "name": "Clase Doc. SP",
         "rawType": "object",
         "type": "string"
        },
        {
         "name": "Nro. SOLPED",
         "rawType": "float64",
         "type": "float"
        },
        {
         "name": "Posición SOLPED",
         "rawType": "int64",
         "type": "integer"
        },
        {
         "name": "Ind. Borrado SP",
         "rawType": "object",
         "type": "string"
        },
        {
         "name": "Fe. Creación SP",
         "rawType": "datetime64[ns]",
         "type": "datetime"
        },
        {
         "name": "Cant. SP",
         "rawType": "int64",
         "type": "integer"
        },
        {
         "name": "Und. Medida Pet. Oferta",
         "rawType": "object",
         "type": "unknown"
        },
        {
         "name": "Nivel de Urgencia",
         "rawType": "int64",
         "type": "integer"
        },
        {
         "name": "Nivel de Urgencia (Texto)",
         "rawType": "object",
         "type": "string"
        },
        {
         "name": "Status tratamiento",
         "rawType": "object",
         "type": "string"
        },
        {
         "name": "Solped Creado por",
         "rawType": "object",
         "type": "string"
        },
        {
         "name": "Clase Doc. PO",
         "rawType": "object",
         "type": "unknown"
        },
        {
         "name": "Nro. Pet. Oferta",
         "rawType": "float64",
         "type": "float"
        },
        {
         "name": "Posición Pet. Oferta",
         "rawType": "int64",
         "type": "integer"
        },
        {
         "name": "Ind. Borrado PO",
         "rawType": "object",
         "type": "unknown"
        },
        {
         "name": "Fecha Creación PO",
         "rawType": "datetime64[ns]",
         "type": "datetime"
        },
        {
         "name": "Cant. PO",
         "rawType": "float64",
         "type": "float"
        },
        {
         "name": "Und. Medida SOLPED",
         "rawType": "object",
         "type": "string"
        },
        {
         "name": "Estado del Pedido",
         "rawType": "int64",
         "type": "integer"
        },
        {
         "name": "Estado del Pedido (Texto)",
         "rawType": "object",
         "type": "string"
        },
        {
         "name": "Marca/Producto",
         "rawType": "float64",
         "type": "float"
        },
        {
         "name": "Proveedor",
         "rawType": "object",
         "type": "unknown"
        },
        {
         "name": "Nombre Proveedor",
         "rawType": "object",
         "type": "unknown"
        },
        {
         "name": "País Origen",
         "rawType": "object",
         "type": "unknown"
        },
        {
         "name": "Grupo de Compra SP",
         "rawType": "object",
         "type": "string"
        },
        {
         "name": "Grupo de Compra PO",
         "rawType": "object",
         "type": "unknown"
        },
        {
         "name": "Grupo de Compra OC",
         "rawType": "object",
         "type": "string"
        },
        {
         "name": "Incoterm",
         "rawType": "object",
         "type": "unknown"
        },
        {
         "name": "Mat. Proveedor en Reg. Info",
         "rawType": "object",
         "type": "unknown"
        },
        {
         "name": "Material Solicitado",
         "rawType": "object",
         "type": "string"
        },
        {
         "name": "Cód. Mat de prov en SP",
         "rawType": "object",
         "type": "unknown"
        },
        {
         "name": "Material OC",
         "rawType": "object",
         "type": "string"
        },
        {
         "name": "Cód. Mat de prov en OC",
         "rawType": "object",
         "type": "unknown"
        },
        {
         "name": "Material Facturado",
         "rawType": "object",
         "type": "unknown"
        },
        {
         "name": "Descripción Material",
         "rawType": "object",
         "type": "string"
        },
        {
         "name": "Valor Total Pos. OC",
         "rawType": "float64",
         "type": "float"
        },
        {
         "name": "Moneda",
         "rawType": "object",
         "type": "unknown"
        },
        {
         "name": "Cant. UN. OC",
         "rawType": "int64",
         "type": "integer"
        },
        {
         "name": "Ref. Prefijo Emb.",
         "rawType": "object",
         "type": "unknown"
        },
        {
         "name": "Nro. DT",
         "rawType": "float64",
         "type": "float"
        },
        {
         "name": "Fe. Creación DT",
         "rawType": "datetime64[ns]",
         "type": "datetime"
        },
        {
         "name": "Doc. Embarque",
         "rawType": "object",
         "type": "unknown"
        },
        {
         "name": "Transportista",
         "rawType": "float64",
         "type": "float"
        },
        {
         "name": "Vía",
         "rawType": "object",
         "type": "unknown"
        },
        {
         "name": "Entrega Entrante",
         "rawType": "float64",
         "type": "float"
        },
        {
         "name": "Pos. Entrega Entrante",
         "rawType": "int64",
         "type": "integer"
        },
        {
         "name": "Status Pos. Entrega.",
         "rawType": "object",
         "type": "unknown"
        },
        {
         "name": "Vía (Texto)",
         "rawType": "object",
         "type": "unknown"
        },
        {
         "name": "N° MIRO",
         "rawType": "object",
         "type": "string"
        },
        {
         "name": "Posición Factura",
         "rawType": "object",
         "type": "string"
        },
        {
         "name": "Referencia Factura",
         "rawType": "object",
         "type": "unknown"
        },
        {
         "name": "Cant. Factura",
         "rawType": "int64",
         "type": "integer"
        },
        {
         "name": "Valor Fact.",
         "rawType": "float64",
         "type": "float"
        },
        {
         "name": "Embarcador",
         "rawType": "float64",
         "type": "float"
        },
        {
         "name": "Nombre del Embarcador",
         "rawType": "object",
         "type": "unknown"
        },
        {
         "name": "Pto. Origen",
         "rawType": "object",
         "type": "unknown"
        },
        {
         "name": "Pto. Destino",
         "rawType": "object",
         "type": "unknown"
        },
        {
         "name": "Estatus COMEX",
         "rawType": "float64",
         "type": "float"
        },
        {
         "name": "Fe. Entrega a Comex",
         "rawType": "float64",
         "type": "float"
        },
        {
         "name": "Fe. Envío a Proveedor",
         "rawType": "datetime64[ns]",
         "type": "datetime"
        },
        {
         "name": "Fe. Confirmación",
         "rawType": "datetime64[ns]",
         "type": "datetime"
        },
        {
         "name": "Fe. Compromiso",
         "rawType": "datetime64[ns]",
         "type": "datetime"
        },
        {
         "name": "Fe. INV",
         "rawType": "datetime64[ns]",
         "type": "datetime"
        },
        {
         "name": "TF de INV",
         "rawType": "object",
         "type": "unknown"
        },
        {
         "name": "Fe. ATD",
         "rawType": "datetime64[ns]",
         "type": "datetime"
        },
        {
         "name": "TF de ATD",
         "rawType": "object",
         "type": "unknown"
        },
        {
         "name": "Fe. ATA",
         "rawType": "datetime64[ns]",
         "type": "datetime"
        },
        {
         "name": "TF de ATA",
         "rawType": "object",
         "type": "unknown"
        },
        {
         "name": "Fe. Pago Aduana",
         "rawType": "datetime64[ns]",
         "type": "datetime"
        },
        {
         "name": "TF Pago Aduana",
         "rawType": "object",
         "type": "unknown"
        },
        {
         "name": "Fe. MIGO",
         "rawType": "datetime64[ns]",
         "type": "datetime"
        },
        {
         "name": "TF de MIGO",
         "rawType": "object",
         "type": "unknown"
        },
        {
         "name": "Fe. Alm. Logístico",
         "rawType": "datetime64[ns]",
         "type": "datetime"
        },
        {
         "name": "TF Alm. Logístico",
         "rawType": "object",
         "type": "unknown"
        },
        {
         "name": "Fe. Centro Distribución",
         "rawType": "datetime64[ns]",
         "type": "datetime"
        },
        {
         "name": "TF. Centro Distribución",
         "rawType": "object",
         "type": "unknown"
        },
        {
         "name": "Fe. Fin Recep.Emb",
         "rawType": "datetime64[ns]",
         "type": "datetime"
        },
        {
         "name": "TF de Fin Recep. Emb",
         "rawType": "object",
         "type": "unknown"
        },
        {
         "name": "Fe. Disp.últ.SKU",
         "rawType": "datetime64[ns]",
         "type": "datetime"
        },
        {
         "name": "TF.Disp.últ.SKU",
         "rawType": "object",
         "type": "unknown"
        },
        {
         "name": "OC-INV (R)",
         "rawType": "int64",
         "type": "integer"
        },
        {
         "name": "INV-ATD (R)",
         "rawType": "int64",
         "type": "integer"
        },
        {
         "name": "ATD-ATA (R)",
         "rawType": "int64",
         "type": "integer"
        },
        {
         "name": "ATA-COMEX (R)",
         "rawType": "int64",
         "type": "integer"
        },
        {
         "name": "COMEX-ALM LOG (R)",
         "rawType": "int64",
         "type": "integer"
        },
        {
         "name": "ALM LOG - CD  (R)",
         "rawType": "int64",
         "type": "integer"
        },
        {
         "name": "CD - MIGO (R)",
         "rawType": "int64",
         "type": "integer"
        },
        {
         "name": "MIGO - FIN RECEP (R)",
         "rawType": "int64",
         "type": "integer"
        },
        {
         "name": "FIN RECEP - DISPO (R)",
         "rawType": "int64",
         "type": "integer"
        },
        {
         "name": "LT Total (R)",
         "rawType": "int64",
         "type": "integer"
        },
        {
         "name": "Días del pedido",
         "rawType": "int64",
         "type": "integer"
        },
        {
         "name": "Días en BO",
         "rawType": "int64",
         "type": "integer"
        },
        {
         "name": "Días Pend. Emb.",
         "rawType": "int64",
         "type": "integer"
        },
        {
         "name": "Pedido Cerrado",
         "rawType": "object",
         "type": "string"
        },
        {
         "name": "Material Cotizado",
         "rawType": "object",
         "type": "unknown"
        },
        {
         "name": "Cód. Mat de prov en PO",
         "rawType": "object",
         "type": "unknown"
        },
        {
         "name": "Cantidad en BO",
         "rawType": "int64",
         "type": "integer"
        },
        {
         "name": "Pet.Ofert.Creado por",
         "rawType": "object",
         "type": "unknown"
        },
        {
         "name": "OC Creado por",
         "rawType": "object",
         "type": "string"
        },
        {
         "name": "Marcar para \"Cerrar\"",
         "rawType": "object",
         "type": "string"
        },
        {
         "name": "AUX",
         "rawType": "object",
         "type": "string"
        },
        {
         "name": "AUX_FACTURA",
         "rawType": "object",
         "type": "string"
        }
       ],
       "conversionMethod": "pd.DataFrame",
       "ref": "32c73437-fdbb-4264-a982-d18116c1a5d1",
       "rows": [
        [
         "63774",
         "4300015224",
         "4300015224",
         "ZVOR",
         "10",
         null,
         "2024-05-07 00:00:00",
         "ZVOR",
         "13620429.0",
         "10",
         "X",
         "2024-05-07 00:00:00",
         "1",
         null,
         "2",
         "Urgencia",
         "B",
         "CORTIZ",
         null,
         null,
         "0",
         null,
         null,
         "0.0",
         "UN",
         "13",
         "Anulado",
         null,
         null,
         null,
         null,
         "RR4",
         null,
         "RR4",
         null,
         null,
         "73311M67P10GCY",
         null,
         "73311M67P10GCY",
         null,
         null,
         "MOLDURA CONTORNO SINOPTICO",
         "309.18",
         null,
         "1",
         null,
         null,
         null,
         null,
         null,
         null,
         null,
         "0",
         null,
         null,
         "nan",
         "0",
         null,
         "0",
         "0.0",
         null,
         null,
         null,
         null,
         null,
         null,
         null,
         null,
         "2024-05-07 00:00:00",
         null,
         null,
         null,
         null,
         null,
         null,
         null,
         null,
         null,
         null,
         null,
         null,
         null,
         null,
         null,
         null,
         null,
         null,
         "0",
         "0",
         "0",
         "0",
         "0",
         "0",
         "0",
         "0",
         "0",
         "0",
         "0",
         "0",
         "0",
         "No",
         null,
         null,
         "1",
         null,
         "CORTIZ",
         "Indeterminado",
         "430001522410",
         "nan0"
        ]
       ],
       "shape": {
        "columns": 108,
        "rows": 1
       }
      },
      "text/html": [
       "<div>\n",
       "<style scoped>\n",
       "    .dataframe tbody tr th:only-of-type {\n",
       "        vertical-align: middle;\n",
       "    }\n",
       "\n",
       "    .dataframe tbody tr th {\n",
       "        vertical-align: top;\n",
       "    }\n",
       "\n",
       "    .dataframe thead th {\n",
       "        text-align: right;\n",
       "    }\n",
       "</style>\n",
       "<table border=\"1\" class=\"dataframe\">\n",
       "  <thead>\n",
       "    <tr style=\"text-align: right;\">\n",
       "      <th></th>\n",
       "      <th>Prefijo OC</th>\n",
       "      <th>Nro. OC SAP</th>\n",
       "      <th>Clase Doc. OC</th>\n",
       "      <th>Posición OC SAP</th>\n",
       "      <th>Ind. Borrado OC</th>\n",
       "      <th>Fecha Creación OC</th>\n",
       "      <th>Clase Doc. SP</th>\n",
       "      <th>Nro. SOLPED</th>\n",
       "      <th>Posición SOLPED</th>\n",
       "      <th>Ind. Borrado SP</th>\n",
       "      <th>...</th>\n",
       "      <th>Días Pend. Emb.</th>\n",
       "      <th>Pedido Cerrado</th>\n",
       "      <th>Material Cotizado</th>\n",
       "      <th>Cód. Mat de prov en PO</th>\n",
       "      <th>Cantidad en BO</th>\n",
       "      <th>Pet.Ofert.Creado por</th>\n",
       "      <th>OC Creado por</th>\n",
       "      <th>Marcar para \"Cerrar\"</th>\n",
       "      <th>AUX</th>\n",
       "      <th>AUX_FACTURA</th>\n",
       "    </tr>\n",
       "  </thead>\n",
       "  <tbody>\n",
       "    <tr>\n",
       "      <th>63774</th>\n",
       "      <td>4300015224</td>\n",
       "      <td>4300015224</td>\n",
       "      <td>ZVOR</td>\n",
       "      <td>10</td>\n",
       "      <td>NaN</td>\n",
       "      <td>2024-05-07</td>\n",
       "      <td>ZVOR</td>\n",
       "      <td>13620429.0</td>\n",
       "      <td>10</td>\n",
       "      <td>X</td>\n",
       "      <td>...</td>\n",
       "      <td>0</td>\n",
       "      <td>No</td>\n",
       "      <td>NaN</td>\n",
       "      <td>NaN</td>\n",
       "      <td>1</td>\n",
       "      <td>NaN</td>\n",
       "      <td>CORTIZ</td>\n",
       "      <td>Indeterminado</td>\n",
       "      <td>430001522410</td>\n",
       "      <td>nan0</td>\n",
       "    </tr>\n",
       "  </tbody>\n",
       "</table>\n",
       "<p>1 rows × 108 columns</p>\n",
       "</div>"
      ],
      "text/plain": [
       "       Prefijo OC Nro. OC SAP Clase Doc. OC Posición OC SAP Ind. Borrado OC  \\\n",
       "63774  4300015224  4300015224          ZVOR              10             NaN   \n",
       "\n",
       "      Fecha Creación OC Clase Doc. SP  Nro. SOLPED  Posición SOLPED  \\\n",
       "63774        2024-05-07          ZVOR   13620429.0               10   \n",
       "\n",
       "      Ind. Borrado SP  ... Días Pend. Emb.  Pedido Cerrado Material Cotizado  \\\n",
       "63774               X  ...               0              No               NaN   \n",
       "\n",
       "       Cód. Mat de prov en PO Cantidad en BO Pet.Ofert.Creado por  \\\n",
       "63774                     NaN              1                  NaN   \n",
       "\n",
       "      OC Creado por Marcar para \"Cerrar\"           AUX  AUX_FACTURA  \n",
       "63774        CORTIZ        Indeterminado  430001522410         nan0  \n",
       "\n",
       "[1 rows x 108 columns]"
      ]
     },
     "execution_count": 74,
     "metadata": {},
     "output_type": "execute_result"
    }
   ],
   "source": [
    "monitor_df[monitor_df['AUX']=='430001522410']"
   ]
  },
  {
   "cell_type": "code",
   "execution_count": 75,
   "metadata": {},
   "outputs": [],
   "source": [
    "monitor_df.drop_duplicates(subset=['AUX'], inplace=True)"
   ]
  },
  {
   "cell_type": "code",
   "execution_count": 76,
   "metadata": {},
   "outputs": [],
   "source": [
    "me2l_15 = me2l_base_tr"
   ]
  },
  {
   "cell_type": "code",
   "execution_count": 77,
   "metadata": {},
   "outputs": [
    {
     "data": {
      "text/plain": [
       "AUX                                            object\n",
       "Documento compras                              object\n",
       "Posición                                       object\n",
       "Reparto                                       float64\n",
       "Cl.documento compras                           object\n",
       "Tipo doc.compras                               object\n",
       "Grupo de compras                               object\n",
       "Historial pedido/Docu.orden entrega           float64\n",
       "Fecha documento                        datetime64[ns]\n",
       "Material Antiguo                               object\n",
       "Material                                       object\n",
       "Texto breve                                    object\n",
       "Grupo de artículos                            float64\n",
       "Indicador de borrado                          float64\n",
       "Tipo de posición                              float64\n",
       "Tipo de imputación                            float64\n",
       "Centro                                        float64\n",
       "Almacén                                       float64\n",
       "Cantidad de reparto                           float64\n",
       "Cantidad de pedido                            float64\n",
       "Unidad medida pedido                           object\n",
       "Precio neto                                   float64\n",
       "Moneda                                         object\n",
       "Fecha de entrega                       datetime64[ns]\n",
       "Hora                                           object\n",
       "Fecha entrega estad.                   datetime64[ns]\n",
       "Cantidad entrada                              float64\n",
       "Cantidad de salida                            float64\n",
       "Cantidad entregada                            float64\n",
       "Solicitud de pedido                           float64\n",
       "Pos.solicitud pedido                          float64\n",
       "Indicador creación                             object\n",
       "Cantidad de posiciones                          int64\n",
       "Nombre del proveedor                           object\n",
       "Por entregar (cantidad)                       float64\n",
       "Por entregar (valor)                          float64\n",
       "Por calcular (cantidad)                       float64\n",
       "Por calcular (valor)                          float64\n",
       "NomSector_actual                               object\n",
       "Origen                                         object\n",
       "TIPO                                           object\n",
       "Corresponde                                   float64\n",
       "dtype: object"
      ]
     },
     "execution_count": 77,
     "metadata": {},
     "output_type": "execute_result"
    }
   ],
   "source": [
    "me2l_15.dtypes"
   ]
  },
  {
   "cell_type": "code",
   "execution_count": 78,
   "metadata": {},
   "outputs": [],
   "source": [
    "me2l_15 = me2l_15.merge(monitor_df[['AUX','Fe. ATA']], left_on='AUX', right_on='AUX', how = 'left')"
   ]
  },
  {
   "cell_type": "code",
   "execution_count": 79,
   "metadata": {},
   "outputs": [],
   "source": [
    "me2l_15['Fecha Est. Fact'] = np.where(me2l_15['Fe. ATA'].notnull(), me2l_15['Fe. ATA'] + pd.Timedelta(days=15), me2l_15['Fecha de entrega'])"
   ]
  },
  {
   "cell_type": "code",
   "execution_count": 80,
   "metadata": {},
   "outputs": [
    {
     "data": {
      "text/plain": [
       "Series([], Name: Fe. ATA, dtype: datetime64[ns])"
      ]
     },
     "execution_count": 80,
     "metadata": {},
     "output_type": "execute_result"
    }
   ],
   "source": [
    "me2l_15[me2l_15['AUX']=='42000061361270']['Fe. ATA']"
   ]
  },
  {
   "cell_type": "code",
   "execution_count": 81,
   "metadata": {},
   "outputs": [],
   "source": [
    "me2l_15 = me2l_15.merge(tabla_final[['AUX', 'Cant. Factura']], left_on = 'AUX', right_on='AUX',how='left')"
   ]
  },
  {
   "cell_type": "code",
   "execution_count": 82,
   "metadata": {},
   "outputs": [],
   "source": [
    "me2l_15['Cant. Factura'] = me2l_15['Cant. Factura'] * me2l_15['Corresponde']"
   ]
  },
  {
   "cell_type": "code",
   "execution_count": 83,
   "metadata": {},
   "outputs": [],
   "source": [
    "me2l_15= me2l_15.merge(table_ee, left_on='AUX', right_on='AUX', how='left')"
   ]
  },
  {
   "cell_type": "code",
   "execution_count": 84,
   "metadata": {},
   "outputs": [],
   "source": [
    "me2l_15['Cantidad entrega'] = me2l_15['Cantidad entrega']*me2l_15['Corresponde']"
   ]
  },
  {
   "cell_type": "code",
   "execution_count": 85,
   "metadata": {},
   "outputs": [],
   "source": [
    "me2l_15['Qty por Entregar'] = me2l_15['Por entregar (cantidad)']*me2l_15['Corresponde']"
   ]
  },
  {
   "cell_type": "code",
   "execution_count": 86,
   "metadata": {},
   "outputs": [],
   "source": [
    "#cambiar esto por la fecha del dia actual\n",
    "\n",
    "hoy = datetime.datetime.today()"
   ]
  },
  {
   "cell_type": "code",
   "execution_count": null,
   "metadata": {},
   "outputs": [],
   "source": []
  },
  {
   "cell_type": "code",
   "execution_count": 87,
   "metadata": {},
   "outputs": [],
   "source": [
    "me2l_15['Cantidad entrega'].fillna(0, inplace=True)"
   ]
  },
  {
   "cell_type": "code",
   "execution_count": 88,
   "metadata": {},
   "outputs": [
    {
     "data": {
      "text/plain": [
       "0    4.0\n",
       "Name: Qty por Entregar, dtype: float64"
      ]
     },
     "execution_count": 88,
     "metadata": {},
     "output_type": "execute_result"
    }
   ],
   "source": [
    "me2l_15[me2l_15['AUX']=='430001539910']['Qty por Entregar']"
   ]
  },
  {
   "cell_type": "code",
   "execution_count": 89,
   "metadata": {},
   "outputs": [],
   "source": [
    "\n",
    "\n",
    "# Suponiendo que 'me2l_15' es tu DataFrame y 'AW4', 'BJ4' y 'AT4' son columnas en tu DataFrame\n",
    "result = me2l_15['Cant. Factura'] - me2l_15['Cantidad entrega']\n",
    "result = np.where(np.isnan(result), me2l_15['Qty por Entregar'], result)\n",
    "\n",
    "me2l_15['Qty Fact Corr'] = np.where(result<0, 0, result)"
   ]
  },
  {
   "cell_type": "code",
   "execution_count": 90,
   "metadata": {},
   "outputs": [],
   "source": [
    "me2l_15[['AUX','Qty Fact Corr']].to_excel('verif_x_entr.xlsx')"
   ]
  },
  {
   "cell_type": "code",
   "execution_count": 91,
   "metadata": {},
   "outputs": [],
   "source": [
    "hoy = pd.to_datetime(hoy)"
   ]
  },
  {
   "cell_type": "code",
   "execution_count": 92,
   "metadata": {},
   "outputs": [
    {
     "data": {
      "text/plain": [
       "Timestamp('2025-08-15 00:00:00')"
      ]
     },
     "execution_count": 92,
     "metadata": {},
     "output_type": "execute_result"
    }
   ],
   "source": [
    "me2l_15[ 'Fecha Est. Fact'].max()"
   ]
  },
  {
   "cell_type": "code",
   "execution_count": 93,
   "metadata": {},
   "outputs": [],
   "source": [
    "conditions = [\n",
    "    (me2l_15['Qty Fact Corr'] > 0) & (me2l_15['Fecha Est. Fact'] >= hoy),\n",
    "    (me2l_15['Qty Fact Corr'] > 0) & (me2l_15['Fecha Est. Fact'] < hoy)\n",
    "]\n",
    "\n",
    "choices = ['Facturado No Vencido', 'Facturado Vencido']\n",
    "\n",
    "me2l_15['Status TR Fact'] = np.select(conditions, choices, default='No Facturado')"
   ]
  },
  {
   "cell_type": "code",
   "execution_count": 94,
   "metadata": {},
   "outputs": [],
   "source": [
    "from datetime import timedelta, datetime\n",
    "\n",
    "hoy_31 = hoy  + timedelta(days=31)"
   ]
  },
  {
   "cell_type": "code",
   "execution_count": 95,
   "metadata": {},
   "outputs": [],
   "source": [
    "hoy_31 = pd.to_datetime(hoy_31)"
   ]
  },
  {
   "cell_type": "code",
   "execution_count": null,
   "metadata": {},
   "outputs": [],
   "source": []
  },
  {
   "cell_type": "code",
   "execution_count": 96,
   "metadata": {},
   "outputs": [],
   "source": [
    "condition = (me2l_15['Fecha de entrega'] > hoy) & (me2l_15['Fecha de entrega'] < hoy_31)\n",
    "\n",
    "# Apply the condition using boolean indexing and assign 'SI' or 'NO' accordingly\n",
    "me2l_15['Fecha BO Mes Actual'] = np.where(condition, 'SI', 'NO')"
   ]
  },
  {
   "cell_type": "code",
   "execution_count": 97,
   "metadata": {},
   "outputs": [],
   "source": [
    "condition= (me2l_15['Fecha de entrega']< hoy)\n",
    "\n",
    "me2l_15['TR Vencido'] = np.where(condition, 'SI','NO')"
   ]
  },
  {
   "cell_type": "code",
   "execution_count": 98,
   "metadata": {},
   "outputs": [],
   "source": [
    "conditions = [\n",
    "    (me2l_15['Fecha BO Mes Actual'] == \"NO\") & (me2l_15['TR Vencido'] == \"NO\"),\n",
    "    (me2l_15['TR Vencido'] == \"SI\"),\n",
    "]\n",
    "\n",
    "# Define choices\n",
    "choices = [\n",
    "    \"Fecha Teórica\",\n",
    "    \"TR Vencido\",\n",
    "]\n",
    "\n",
    "# Apply np.select\n",
    "me2l_15['Statur TR No FAct'] = np.select(conditions, choices, default=\"Replanificar +45\")"
   ]
  },
  {
   "cell_type": "code",
   "execution_count": 99,
   "metadata": {},
   "outputs": [],
   "source": [
    "#Qty BO\n",
    "me2l_15['Cant. BO'] = me2l_15['Cant. Factura'].fillna(0, inplace=True)"
   ]
  },
  {
   "cell_type": "code",
   "execution_count": 100,
   "metadata": {},
   "outputs": [],
   "source": [
    "#Cant Factura : Cant Fact CORR\n",
    "#QTY BO: CHECK"
   ]
  },
  {
   "cell_type": "code",
   "execution_count": 101,
   "metadata": {},
   "outputs": [],
   "source": [
    "condicion = (me2l_15['Fecha Est. Fact'] < hoy)\n",
    "\n",
    "me2l_15['Atraso'] = np.where(condicion, 'SI','NO')"
   ]
  },
  {
   "cell_type": "code",
   "execution_count": 102,
   "metadata": {},
   "outputs": [],
   "source": [
    "condicion = (me2l_15['Atraso'] == 'SI')\n",
    "\n",
    "me2l_15['Fecha Facturacion Final'] = np.where(condicion, hoy_31, me2l_15['Fecha Est. Fact'])\n",
    "\n"
   ]
  },
  {
   "cell_type": "code",
   "execution_count": 103,
   "metadata": {},
   "outputs": [],
   "source": [
    "me2l_15['Fecha Facturacion Final'] = pd.to_datetime(me2l_15['Fecha Facturacion Final'])"
   ]
  },
  {
   "cell_type": "code",
   "execution_count": 104,
   "metadata": {},
   "outputs": [],
   "source": [
    "me2l_15 = me2l_15.merge(monitor_df[['AUX', 'Vía (Texto)']], left_on='AUX', right_on='AUX', how='left')"
   ]
  },
  {
   "cell_type": "code",
   "execution_count": 105,
   "metadata": {},
   "outputs": [],
   "source": [
    "me2l_15['LT Objetivo'] = np.where(me2l_15['Vía (Texto)'].isin([\"Marítimo\", \"Terrestre\"]), 45,\n",
    "                    np.where(me2l_15['Vía (Texto)'] == \"Aéreo\", 15,\n",
    "                        np.where(me2l_15['Vía (Texto)'] == \"Courier\", 7, 0)))"
   ]
  },
  {
   "cell_type": "code",
   "execution_count": 106,
   "metadata": {},
   "outputs": [],
   "source": [
    "me2l_15 = me2l_15.merge(monitor_df[['AUX','Fe. Confirmación']], left_on='AUX',right_on='AUX', how='left')"
   ]
  },
  {
   "cell_type": "code",
   "execution_count": 107,
   "metadata": {},
   "outputs": [],
   "source": [
    "me2l_15['Fecha OC'] = np.where((me2l_15['Fe. Confirmación'] == 0) | (me2l_15['Fe. Confirmación'].isna()), me2l_15['Fecha documento'], me2l_15['Fe. Confirmación'])"
   ]
  },
  {
   "cell_type": "code",
   "execution_count": 108,
   "metadata": {},
   "outputs": [],
   "source": [
    "import datetime\n",
    "today = hoy"
   ]
  },
  {
   "cell_type": "code",
   "execution_count": 109,
   "metadata": {},
   "outputs": [],
   "source": [
    "today = pd.to_datetime(today)"
   ]
  },
  {
   "cell_type": "code",
   "execution_count": 110,
   "metadata": {},
   "outputs": [],
   "source": [
    "\n",
    "\n",
    "# Calculate the difference\n",
    "me2l_15['Dias LT BO'] = (today - me2l_15['Fecha OC']).dt.days - me2l_15['LT Objetivo']\n",
    "\n",
    "# Handling potential errors, setting them to 0\n",
    "me2l_15['Dias LT BO'] = me2l_15['Dias LT BO'].fillna(0)"
   ]
  },
  {
   "cell_type": "code",
   "execution_count": 111,
   "metadata": {},
   "outputs": [],
   "source": [
    "import pandas as pd\n",
    "import numpy as np\n",
    "\n",
    "# Define conditions and choices\n",
    "conditions = [\n",
    "    (me2l_15['Vía (Texto)'].isin([\"Marítimo\", \"Terrestre\"])) & (me2l_15['Dias LT BO'].between(1, 30)),\n",
    "    (me2l_15['Vía (Texto)'].isin([\"Marítimo\", \"Terrestre\"])) & (me2l_15['Dias LT BO'].between(31, 60)),\n",
    "    (me2l_15['Vía (Texto)'].isin([\"Marítimo\", \"Terrestre\"])) & (me2l_15['Dias LT BO'].between(61, 90)),\n",
    "    (me2l_15['Vía (Texto)'].isin([\"Marítimo\", \"Terrestre\"])) & (me2l_15['Dias LT BO'] > 90),\n",
    "    (me2l_15['Vía (Texto)'] == \"Aéreo\") & (me2l_15['Dias LT BO'].between(1, 15)),\n",
    "    (me2l_15['Vía (Texto)'] == \"Aéreo\") & (me2l_15['Dias LT BO'].between(16, 30)),\n",
    "    (me2l_15['Vía (Texto)'] == \"Aéreo\") & (me2l_15['Dias LT BO'].between(31, 45)),\n",
    "    (me2l_15['Vía (Texto)'] == \"Courier\") & (me2l_15['Dias LT BO'].between(1, 7)),\n",
    "    (me2l_15['Vía (Texto)'] == \"Courier\") & (me2l_15['Dias LT BO'].between(8, 15)),\n",
    "    (me2l_15['Vía (Texto)'] == \"Courier\") & (me2l_15['Dias LT BO'].between(16, 21)),\n",
    "    (me2l_15['Vía (Texto)'] == \"Courier\") & (me2l_15['Dias LT BO'] > 21),\n",
    "    (me2l_15['Vía (Texto)'] == \"Aéreo\") & (me2l_15['Dias LT BO'] > 45)\n",
    "]\n",
    "\n",
    "choices = [\n",
    "    \"De 1 a 30 días\",\n",
    "    \"De 31 a 60 días\",\n",
    "    \"De 61 a 90 días\",\n",
    "    \"De 91 días a más\",\n",
    "    \"De 1 a 15 días\",\n",
    "    \"De 16 a 30 días\",\n",
    "    \"De 31 a 45 días\",\n",
    "    \"De 1 a 7 días\",\n",
    "    \"De 8 a 15 días\",\n",
    "    \"De 16 a 21 días\",\n",
    "    \"De 21 días a más\",\n",
    "    \"De 45 días a más\"\n",
    "]\n",
    "\n",
    "# Assign the values based on conditions\n",
    "me2l_15['Categoría LT'] = np.select(conditions, choices, default=\"Dentro de LT\")\n",
    "\n"
   ]
  },
  {
   "cell_type": "code",
   "execution_count": 112,
   "metadata": {},
   "outputs": [],
   "source": [
    "import pandas as pd\n",
    "import numpy as np\n",
    "\n",
    "# As\n",
    "BV1 = 45  \n",
    "\n",
    "#Definir condiciones\n",
    "conditions = [\n",
    "    me2l_15['Statur TR No FAct'] == \"Replanificar +45\",\n",
    "    me2l_15['Statur TR No FAct'] == \"Fecha Teórica\",\n",
    "    (me2l_15['Statur TR No FAct'] == \"TR Vencido\") & ((me2l_15['Categoría LT'] == 0) | (me2l_15['Categoría LT'] == \"Dentro de LT\")),\n",
    "    (me2l_15['Statur TR No FAct'] == \"TR Vencido\") & (me2l_15['Categoría LT'] == \"De 31 a 60 días\"),\n",
    "    (me2l_15['Statur TR No FAct'] == \"TR Vencido\") & (me2l_15['Categoría LT'] == \"De 61 a 90 días\")\n",
    "]\n",
    "\n",
    "choices = [\n",
    "    hoy + timedelta(days =45),\n",
    "    me2l_15['Fecha Facturacion Final'],\n",
    "    hoy + timedelta(days =30),\n",
    "    hoy + timedelta(days =60),\n",
    "    hoy + timedelta(days =90)\n",
    "]\n",
    "\n",
    "# Asignar valores segun condicion\n",
    "me2l_15['Fecha No Fact'] = np.select(conditions, choices, default=hoy + timedelta(days =120))\n"
   ]
  },
  {
   "cell_type": "code",
   "execution_count": 113,
   "metadata": {},
   "outputs": [],
   "source": [
    "me2l_15['Fecha No Fact'] = pd.to_datetime(me2l_15['Fecha No Fact'])"
   ]
  },
  {
   "cell_type": "code",
   "execution_count": 114,
   "metadata": {},
   "outputs": [],
   "source": [
    "me2l_15= me2l_15.merge(tabla_final[['AUX','Cantidad en BO']], left_on='AUX',right_on='AUX', how='left')"
   ]
  },
  {
   "cell_type": "markdown",
   "metadata": {},
   "source": [
    "AQUI SE DEJA DE TOMAR MONITOR Y SE TOMA ME2L (POR CALCULAR (CANTIDAD))"
   ]
  },
  {
   "cell_type": "code",
   "execution_count": 115,
   "metadata": {},
   "outputs": [
    {
     "data": {
      "text/plain": [
       "Index(['AUX', 'Documento compras', 'Posición', 'Reparto',\n",
       "       'Cl.documento compras', 'Tipo doc.compras', 'Grupo de compras',\n",
       "       'Historial pedido/Docu.orden entrega', 'Fecha documento',\n",
       "       'Material Antiguo', 'Material', 'Texto breve', 'Grupo de artículos',\n",
       "       'Indicador de borrado', 'Tipo de posición', 'Tipo de imputación',\n",
       "       'Centro', 'Almacén', 'Cantidad de reparto', 'Cantidad de pedido',\n",
       "       'Unidad medida pedido', 'Precio neto', 'Moneda', 'Fecha de entrega',\n",
       "       'Hora', 'Fecha entrega estad.', 'Cantidad entrada',\n",
       "       'Cantidad de salida', 'Cantidad entregada', 'Solicitud de pedido',\n",
       "       'Pos.solicitud pedido', 'Indicador creación', 'Cantidad de posiciones',\n",
       "       'Nombre del proveedor', 'Por entregar (cantidad)',\n",
       "       'Por entregar (valor)', 'Por calcular (cantidad)',\n",
       "       'Por calcular (valor)', 'NomSector_actual', 'Origen', 'TIPO',\n",
       "       'Corresponde', 'Fe. ATA', 'Fecha Est. Fact', 'Cant. Factura',\n",
       "       'Cantidad entrega', 'Qty por Entregar', 'Qty Fact Corr',\n",
       "       'Status TR Fact', 'Fecha BO Mes Actual', 'TR Vencido',\n",
       "       'Statur TR No FAct', 'Cant. BO', 'Atraso', 'Fecha Facturacion Final',\n",
       "       'Vía (Texto)', 'LT Objetivo', 'Fe. Confirmación', 'Fecha OC',\n",
       "       'Dias LT BO', 'Categoría LT', 'Fecha No Fact', 'Cantidad en BO'],\n",
       "      dtype='object')"
      ]
     },
     "execution_count": 115,
     "metadata": {},
     "output_type": "execute_result"
    }
   ],
   "source": [
    "me2l_15.columns"
   ]
  },
  {
   "cell_type": "code",
   "execution_count": 116,
   "metadata": {},
   "outputs": [],
   "source": [
    "me2l_15['Cantidad en BO'] = me2l_15['Por calcular (cantidad)']*me2l_15['Corresponde']"
   ]
  },
  {
   "cell_type": "code",
   "execution_count": null,
   "metadata": {},
   "outputs": [],
   "source": []
  },
  {
   "cell_type": "code",
   "execution_count": 117,
   "metadata": {},
   "outputs": [],
   "source": [
    "me2l_15['Cantidad en BO'].fillna(0, inplace=True)"
   ]
  },
  {
   "cell_type": "code",
   "execution_count": 118,
   "metadata": {},
   "outputs": [],
   "source": [
    "import numpy as np\n",
    "\n",
    "# Crear una condición basada en la columna 'TIPO'\n",
    "condicion = (me2l_15['TIPO'] == 'OEM') & (me2l_15['Por calcular (cantidad)'] == 0)\n",
    "\n",
    "# Actualizar la columna 'Cantidad en BO' basada en la condición\n",
    "me2l_15['Cantidad en BO'] = np.where(condicion, 0, me2l_15['Cantidad en BO'])\n",
    "\n"
   ]
  },
  {
   "cell_type": "code",
   "execution_count": 119,
   "metadata": {},
   "outputs": [
    {
     "data": {
      "text/plain": [
       "Series([], Name: Por calcular (cantidad), dtype: float64)"
      ]
     },
     "execution_count": 119,
     "metadata": {},
     "output_type": "execute_result"
    }
   ],
   "source": [
    "me2l_15['Por calcular (cantidad)'][me2l_15['AUX']=='420000494760']\n"
   ]
  },
  {
   "cell_type": "code",
   "execution_count": 120,
   "metadata": {},
   "outputs": [
    {
     "data": {
      "text/plain": [
       "TIPO\n",
       "OEM    21590\n",
       "AXS      213\n",
       "Name: count, dtype: int64"
      ]
     },
     "execution_count": 120,
     "metadata": {},
     "output_type": "execute_result"
    }
   ],
   "source": [
    "me2l_15['TIPO'].value_counts()"
   ]
  },
  {
   "cell_type": "code",
   "execution_count": 121,
   "metadata": {},
   "outputs": [
    {
     "data": {
      "text/plain": [
       "127710.0"
      ]
     },
     "execution_count": 121,
     "metadata": {},
     "output_type": "execute_result"
    }
   ],
   "source": [
    "me2l_15['Cantidad en BO'].sum()"
   ]
  },
  {
   "cell_type": "code",
   "execution_count": 122,
   "metadata": {},
   "outputs": [
    {
     "data": {
      "text/plain": [
       "Corresponde\n",
       "1.0     21954\n",
       "4.0         2\n",
       "12.0        1\n",
       "Name: count, dtype: int64"
      ]
     },
     "execution_count": 122,
     "metadata": {},
     "output_type": "execute_result"
    }
   ],
   "source": [
    "me2l_15['Corresponde'].value_counts()"
   ]
  },
  {
   "cell_type": "code",
   "execution_count": 123,
   "metadata": {},
   "outputs": [],
   "source": [
    "me2l_15.to_excel(destino_tubo + \"Base Transito para Analisis.xlsx\")"
   ]
  },
  {
   "cell_type": "code",
   "execution_count": 124,
   "metadata": {},
   "outputs": [],
   "source": [
    "side_a = me2l_15[['AUX','Status TR Fact',   'Material','Texto breve','Qty Fact Corr','Centro','NomSector_actual','Origen','TIPO','Cl.documento compras','Fecha Facturacion Final','Nombre del proveedor','Grupo de compras']]\n",
    "side_b = me2l_15[['AUX','Statur TR No FAct','Material','Texto breve','Cantidad en BO',     'Centro','NomSector_actual','Origen','TIPO','Cl.documento compras','Fecha No Fact',          'Nombre del proveedor','Grupo de compras']]"
   ]
  },
  {
   "cell_type": "code",
   "execution_count": 125,
   "metadata": {},
   "outputs": [
    {
     "name": "stderr",
     "output_type": "stream",
     "text": [
      "C:\\Users\\lravlic\\AppData\\Local\\Temp\\ipykernel_25528\\410670440.py:1: SettingWithCopyWarning: \n",
      "A value is trying to be set on a copy of a slice from a DataFrame\n",
      "\n",
      "See the caveats in the documentation: https://pandas.pydata.org/pandas-docs/stable/user_guide/indexing.html#returning-a-view-versus-a-copy\n",
      "  side_a.rename(columns={'Status TR Fact':'Status','Qty Fact Corr':'Cantidad','Fecha Facturacion Final':'Fecha'}, inplace=True)\n",
      "C:\\Users\\lravlic\\AppData\\Local\\Temp\\ipykernel_25528\\410670440.py:2: SettingWithCopyWarning: \n",
      "A value is trying to be set on a copy of a slice from a DataFrame\n",
      "\n",
      "See the caveats in the documentation: https://pandas.pydata.org/pandas-docs/stable/user_guide/indexing.html#returning-a-view-versus-a-copy\n",
      "  side_b.rename(columns={'Statur TR No FAct':'Status','Cantidad en BO':'Cantidad','Fecha No Fact':'Fecha'}, inplace=True)\n"
     ]
    }
   ],
   "source": [
    "side_a.rename(columns={'Status TR Fact':'Status','Qty Fact Corr':'Cantidad','Fecha Facturacion Final':'Fecha'}, inplace=True)\n",
    "side_b.rename(columns={'Statur TR No FAct':'Status','Cantidad en BO':'Cantidad','Fecha No Fact':'Fecha'}, inplace=True)"
   ]
  },
  {
   "cell_type": "code",
   "execution_count": 126,
   "metadata": {},
   "outputs": [],
   "source": [
    "tr_final = pd.concat([side_a, side_b])"
   ]
  },
  {
   "cell_type": "markdown",
   "metadata": {},
   "source": []
  },
  {
   "cell_type": "code",
   "execution_count": 127,
   "metadata": {},
   "outputs": [],
   "source": [
    "tr_final.to_excel(destino_tubo + \"TR FINAL R3.xlsx\", index=False)"
   ]
  },
  {
   "cell_type": "code",
   "execution_count": 128,
   "metadata": {},
   "outputs": [],
   "source": [
    "me5a = pd.read_excel(destino_tubo + \"ME5A R3.xlsx\", dtype={\"Solicitud de pedido\":\"str\",\"Pos.solicitud pedido\":\"str\", \"Fecha de entrega\":\"str\", \"Urgencia necesidad\":\"str\"})\n",
    "\n",
    "me5a['AUX'] = me5a['Solicitud de pedido'] + me5a['Pos.solicitud pedido']\n",
    "me5a['Fecha Estimada'] = pd.to_datetime(me5a['Fecha de entrega'].str[:4]+ '-' + me5a['Fecha de entrega'].str[4:6] + '-' + me5a['Fecha de entrega'].str[6:])\n",
    "\n",
    "hoy = datetime.datetime.today()\n",
    "hoy = pd.to_datetime(hoy)\n",
    "me5a['Atraso'] = np.where(hoy >= me5a['Fecha Estimada'], \"SI\", \"NO\")\n",
    "me5a['hoy']=pd.to_datetime(hoy)\n",
    "me5a['Fecha de llegada'] = me5a.apply(lambda row: row['hoy'] + datetime.timedelta(days=21) if row['Atraso']==\"SI\" and row['Urgencia necesidad'] in ['1','2'] else row['hoy'] + datetime.timedelta(days=120) if row['Atraso']==\"SI\" and row['Urgencia necesidad'] == '3' else row['Fecha Estimada'], axis=1)\n",
    "me5a['Fecha de llegada'] = pd.to_datetime(me5a['Fecha de llegada'])\n",
    "me5a['Status solped'] = np.where(me5a['Fecha Estimada'] == \"SI\", \"Solped Vencida\", \"Solped en Curso\")\n",
    "me5a['Semana'] = me5a['Fecha de llegada'].dt.isocalendar().week\n",
    "me5a['Año'] = me5a['Fecha de llegada'].dt.isocalendar().year\n",
    "me5a['Mes'] = me5a['Fecha de llegada'].dt.month"
   ]
  },
  {
   "cell_type": "code",
   "execution_count": 129,
   "metadata": {},
   "outputs": [],
   "source": [
    "me5a = me5a.merge(df_mara[['Material_R3','Sector_dsc']], left_on='Material', right_on='Material_R3', how=\"left\")"
   ]
  },
  {
   "cell_type": "code",
   "execution_count": 130,
   "metadata": {},
   "outputs": [
    {
     "data": {
      "text/plain": [
       "Index(['Solicitud de pedido', 'Clase documento', 'Fecha de solicitud',\n",
       "       'Pos.solicitud pedido', 'Material', 'Ult. Eslabon', 'Texto breve',\n",
       "       'Cantidad solicitada', 'Unidad de medida', 'Nombre del proveedor',\n",
       "       'Indicador de borrado', 'Status tratamiento', 'Centro',\n",
       "       'Status tratamiento solicitud pedido', 'Fecha de entrega',\n",
       "       'Grupo de compras', 'Solicitante', 'Proveedor deseado',\n",
       "       'Proveedor fijo', 'Reg.info de compras', 'Creado por',\n",
       "       'Fecha de pedido', 'Nombre del proveedor deseado', 'Pedido',\n",
       "       'Posición de pedido', 'Proveedor', 'Moneda', 'Precio de valoración',\n",
       "       'Valor total', 'Petición de oferta', 'Fecha Petición de oferta',\n",
       "       'Texto bloqueo', 'Cantidad confirmada', 'Urgencia necesidad', 'AUX',\n",
       "       'Fecha Estimada', 'Atraso', 'hoy', 'Fecha de llegada', 'Status solped',\n",
       "       'Semana', 'Año', 'Mes', 'Material_R3', 'Sector_dsc'],\n",
       "      dtype='object')"
      ]
     },
     "execution_count": 130,
     "metadata": {},
     "output_type": "execute_result"
    }
   ],
   "source": [
    "me5a.columns"
   ]
  },
  {
   "cell_type": "code",
   "execution_count": 131,
   "metadata": {},
   "outputs": [],
   "source": [
    "me5a = me5a.rename(columns={'Status solped':'Status', 'Cantidad solicitada':'Cantidad', 'Sector_dsc':'NomSector_actual',  'Clase documento':'Cl.documento compras', 'Fecha de llegada':'Fecha'})\n",
    "\n",
    "me5a = me5a[['AUX', 'Status', 'Material', 'Texto breve', 'Cantidad', 'Centro',\n",
    "       'NomSector_actual' ,'Cl.documento compras', 'Fecha',\n",
    "       'Nombre del proveedor', 'Grupo de compras']]"
   ]
  },
  {
   "cell_type": "code",
   "execution_count": 132,
   "metadata": {},
   "outputs": [],
   "source": [
    "tr_consolidado = pd.concat([tr_final, me5a])"
   ]
  },
  {
   "cell_type": "code",
   "execution_count": 133,
   "metadata": {},
   "outputs": [],
   "source": [
    "tr_consolidado.to_excel(destino_tubo + 'TR FINAL R3 Consolidado.xlsx')"
   ]
  },
  {
   "cell_type": "code",
   "execution_count": 134,
   "metadata": {},
   "outputs": [],
   "source": [
    "import win32com.client\n",
    "import getpass\n",
    "usuario = getpass.getuser()\n",
    "\n",
    "# Initialize SAP GUI Scripting\n",
    "sap_gui_auto = win32com.client.GetObject(\"SAPGUI\")\n",
    "application = sap_gui_auto.GetScriptingEngine\n",
    "\n",
    "# Establish connection and session\n",
    "connection = application.Children(0)\n",
    "session = connection.Children(0)\n",
    "\n",
    "# Maximize the window\n",
    "session.findById(\"wnd[0]\").maximize()\n",
    "\n",
    "# Enter transaction code\n",
    "session.findById(\"wnd[0]/tbar[0]/okcd\").text = \"MB52\"\n",
    "session.findById(\"wnd[0]\").sendVKey(0)\n",
    "\n",
    "# Open value help for plant field and fill in the values\n",
    "session.findById(\"wnd[0]/usr/btn%_WERKS_%_APP_%-VALU_PUSH\").press()\n",
    "session.findById(\"wnd[1]/usr/tabsTAB_STRIP/tabpSIVA/ssubSCREEN_HEADER:SAPLALDB:3010/tblSAPLALDBSINGLE/ctxtRSCSEL_255-SLOW_I[1,1]\").text = \"0270\"\n",
    "session.findById(\"wnd[1]/usr/tabsTAB_STRIP/tabpSIVA/ssubSCREEN_HEADER:SAPLALDB:3010/tblSAPLALDBSINGLE/ctxtRSCSEL_255-SLOW_I[1,2]\").text = \"0501\"\n",
    "session.findById(\"wnd[1]/usr/tabsTAB_STRIP/tabpSIVA/ssubSCREEN_HEADER:SAPLALDB:3010/tblSAPLALDBSINGLE/ctxtRSCSEL_255-SLOW_I[1,3]\").text = \"0201\"\n",
    "session.findById(\"wnd[1]/usr/tabsTAB_STRIP/tabpSIVA/ssubSCREEN_HEADER:SAPLALDB:3010/tblSAPLALDBSINGLE/ctxtRSCSEL_255-SLOW_I[1,2]\").setFocus()\n",
    "session.findById(\"wnd[1]/usr/tabsTAB_STRIP/tabpSIVA/ssubSCREEN_HEADER:SAPLALDB:3010/tblSAPLALDBSINGLE/ctxtRSCSEL_255-SLOW_I[1,2]\").caretPosition = 4\n",
    "session.findById(\"wnd[1]\").sendVKey(8)\n",
    "\n",
    "# Set the variant and execute\n",
    "session.findById(\"wnd[0]/usr/ctxtP_VARI\").text = \"/LRAVLIC\"\n",
    "session.findById(\"wnd[0]/usr/ctxtP_VARI\").setFocus()\n",
    "session.findById(\"wnd[0]/usr/ctxtP_VARI\").caretPosition = 8\n",
    "session.findById(\"wnd[0]\").sendVKey(8)\n",
    "\n",
    "# Export the data\n",
    "session.findById(\"wnd[0]/tbar[1]/btn[43]\").press()\n",
    "session.findById(\"wnd[1]/tbar[0]/btn[0]\").press()\n",
    "session.findById(\"wnd[1]/usr/ctxtDY_PATH\").text = \"C:/Users/lravlic/Inchcape/Planificación y Compras Chile - Documentos/Planificación y Compras KPI-Reportes/Bases Transito (python)\"\n",
    "session.findById(\"wnd[1]/usr/ctxtDY_FILENAME\").text = \"STOCK_R3.XLSX\"\n",
    "session.findById(\"wnd[1]/usr/ctxtDY_PATH\").setFocus()\n",
    "session.findById(\"wnd[1]/usr/ctxtDY_PATH\").caretPosition = 0\n",
    "session.findById(\"wnd[1]/tbar[0]/btn[11]\").press()\n",
    "\n",
    "# Close the windows\n",
    "session.findById(\"wnd[0]\").sendVKey(3)\n",
    "session.findById(\"wnd[0]\").sendVKey(3)\n",
    "\n"
   ]
  },
  {
   "cell_type": "code",
   "execution_count": 135,
   "metadata": {},
   "outputs": [],
   "source": [
    "import tkinter as tk\n",
    "from tkinter import messagebox\n",
    "\n",
    "root = tk.Tk()\n",
    "root.withdraw()  # Oculta la ventana principal\n",
    "messagebox.showinfo(\"Cambio de Sesión\", \"Por favor, haga el cambio de sesión antes de proseguir.\")\n",
    "root.destroy()  # Destruye la ventana principal después de mostrar el mensaje"
   ]
  },
  {
   "cell_type": "code",
   "execution_count": 136,
   "metadata": {},
   "outputs": [
    {
     "name": "stdout",
     "output_type": "stream",
     "text": [
      "An error occurred: (-2147352567, 'Ocurrió una excepción.', (617, 'SAP Frontend Server', 'The virtual key is not enabled.', None, 0, 0), None)\n"
     ]
    }
   ],
   "source": [
    "import win32com.client\n",
    "import time\n",
    "\n",
    "def main():\n",
    "    try:\n",
    "        SapGuiAuto = win32com.client.GetObject(\"SAPGUI\")\n",
    "        application = SapGuiAuto.GetScriptingEngine\n",
    "        connection = application.Children(0)\n",
    "        session = connection.Children(0)\n",
    "        \n",
    "        session.findById(\"wnd[0]\").maximize()\n",
    "        session.findById(\"wnd[0]/tbar[0]/okcd\").text = \"mb52\"\n",
    "        session.findById(\"wnd[0]\").sendVKey(0)\n",
    "        \n",
    "        session.findById(\"wnd[0]/usr/btn%_WERKS_%_APP_%-VALU_PUSH\").press()\n",
    "        session.findById(\"wnd[1]/tbar[0]/btn[16]\").press()\n",
    "        \n",
    "        session.findById(\"wnd[1]/usr/tabsTAB_STRIP/tabpSIVA/ssubSCREEN_HEADER:SAPLALDB:3010/tblSAPLALDBSINGLE/ctxtRSCSEL_255-SLOW_I[1,0]\").text = \"1335\"\n",
    "        session.findById(\"wnd[1]/usr/tabsTAB_STRIP/tabpSIVA/ssubSCREEN_HEADER:SAPLALDB:3010/tblSAPLALDBSINGLE/ctxtRSCSEL_255-SLOW_I[1,1]\").text = \"1305\"\n",
    "        session.findById(\"wnd[1]/usr/tabsTAB_STRIP/tabpSIVA/ssubSCREEN_HEADER:SAPLALDB:3010/tblSAPLALDBSINGLE/ctxtRSCSEL_255-SLOW_I[1,2]\").text = \"1344\"\n",
    "        \n",
    "        session.findById(\"wnd[1]/usr/tabsTAB_STRIP/tabpSIVA/ssubSCREEN_HEADER:SAPLALDB:3010/tblSAPLALDBSINGLE/ctxtRSCSEL_255-SLOW_I[1,2]\").setFocus()\n",
    "        session.findById(\"wnd[1]/usr/tabsTAB_STRIP/tabpSIVA/ssubSCREEN_HEADER:SAPLALDB:3010/tblSAPLALDBSINGLE/ctxtRSCSEL_255-SLOW_I[1,2]\").caretPosition = 4\n",
    "        session.findById(\"wnd[1]\").sendVKey(8)\n",
    "        \n",
    "        session.findById(\"wnd[0]/usr/ctxtP_VARI\").text = \"/STOCK\"\n",
    "        session.findById(\"wnd[0]/usr/ctxtP_VARI\").setFocus()\n",
    "        session.findById(\"wnd[0]/usr/ctxtP_VARI\").caretPosition = 6\n",
    "        session.findById(\"wnd[0]\").sendVKey(8)\n",
    "        \n",
    "        session.findById(\"wnd[0]/tbar[1]/btn[43]\").press()\n",
    "        session.findById(\"wnd[1]/tbar[0]/btn[0]\").press()\n",
    "        \n",
    "        session.findById(\"wnd[1]/usr/ctxtDY_PATH\").text = \"C:\\\\Users\\\\lravlic\\\\Inchcape\\\\Planificación y Compras Chile - Documentos\\\\Planificación y Compras KPI-Reportes\\\\Bases Transito (python)\"\n",
    "        session.findById(\"wnd[1]/usr/ctxtDY_FILENAME\").text = \"STOCK_INP.XLSX\"\n",
    "        session.findById(\"wnd[1]/usr/ctxtDY_FILENAME\").caretPosition = 9\n",
    "        session.findById(\"wnd[1]/tbar[0]/btn[0]\").press()\n",
    "        \n",
    "        session.findById(\"wnd[0]\").sendVKey(3)\n",
    "        session.findById(\"wnd[0]\").sendVKey(3)\n",
    "        \n",
    "    except Exception as e:\n",
    "        print(f\"An error occurred: {e}\")\n",
    "\n",
    "if __name__ == \"__main__\":\n",
    "    main()\n"
   ]
  },
  {
   "cell_type": "code",
   "execution_count": 6,
   "metadata": {},
   "outputs": [],
   "source": [
    "stock_r3 = pd.read_excel(\"C:/Users/lravlic/Inchcape/Planificación y Compras Chile - Documentos/Planificación y Compras KPI-Reportes/Bases Transito (python)/STOCK_R3.XLSX\")\n",
    "stock_inp = pd.read_excel(\"C:/Users/lravlic/Inchcape/Planificación y Compras Chile - Documentos/Planificación y Compras KPI-Reportes/Bases Transito (python)/STOCK_INP.XLSX\")"
   ]
  },
  {
   "cell_type": "code",
   "execution_count": 7,
   "metadata": {},
   "outputs": [],
   "source": [
    "stock_inp.rename(columns={'Número de material externo largo':'Ult. Eslabon'},inplace=True)"
   ]
  },
  {
   "cell_type": "code",
   "execution_count": 8,
   "metadata": {},
   "outputs": [],
   "source": [
    "stock_inp = stock_inp[['Ult. Eslabon','Libre utilización']]"
   ]
  },
  {
   "cell_type": "code",
   "execution_count": 9,
   "metadata": {},
   "outputs": [],
   "source": [
    "stock_r3 = stock_r3.merge(cod_actual_df, left_on = 'Material', right_on='Nro_pieza_fabricante_1', how = 'left')"
   ]
  },
  {
   "cell_type": "code",
   "execution_count": 10,
   "metadata": {},
   "outputs": [],
   "source": [
    "stock_r3.drop(columns='Nro_pieza_fabricante_1', inplace=True)\n",
    "stock_r3.rename(columns={'Cod_Actual_1':'Ult. Eslabon'}, inplace=True)"
   ]
  },
  {
   "cell_type": "code",
   "execution_count": 11,
   "metadata": {},
   "outputs": [],
   "source": [
    "stock_r3['Ult. Eslabon'].fillna(stock_r3['Material'], inplace=True)"
   ]
  },
  {
   "cell_type": "code",
   "execution_count": 12,
   "metadata": {},
   "outputs": [],
   "source": [
    "stock_r3 = stock_r3.merge(df_mara, left_on='Ult. Eslabon', right_on='Material_R3')"
   ]
  },
  {
   "cell_type": "code",
   "execution_count": 13,
   "metadata": {},
   "outputs": [],
   "source": [
    "stock_final = pd.concat([stock_r3, stock_inp])"
   ]
  },
  {
   "cell_type": "code",
   "execution_count": 16,
   "metadata": {},
   "outputs": [],
   "source": [
    "stock_final.to_excel(destino_tubo + \"Stock R3.xlsx\")"
   ]
  },
  {
   "cell_type": "code",
   "execution_count": null,
   "metadata": {},
   "outputs": [],
   "source": []
  },
  {
   "cell_type": "code",
   "execution_count": null,
   "metadata": {},
   "outputs": [],
   "source": []
  }
 ],
 "metadata": {
  "kernelspec": {
   "display_name": "Python 3",
   "language": "python",
   "name": "python3"
  },
  "language_info": {
   "codemirror_mode": {
    "name": "ipython",
    "version": 3
   },
   "file_extension": ".py",
   "mimetype": "text/x-python",
   "name": "python",
   "nbconvert_exporter": "python",
   "pygments_lexer": "ipython3",
   "version": "3.12.0"
  }
 },
 "nbformat": 4,
 "nbformat_minor": 2
}
